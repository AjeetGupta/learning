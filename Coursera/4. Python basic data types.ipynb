{
 "cells": [
  {
   "cell_type": "code",
   "execution_count": null,
   "id": "e04cda60",
   "metadata": {
    "id": "b5d97918-7d26-4004-bc44-0a4e97a31f18"
   },
   "outputs": [],
   "source": []
  },
  {
   "cell_type": "code",
   "execution_count": null,
   "id": "34571785",
   "metadata": {},
   "outputs": [],
   "source": [
    "d4['course '] =  ['dsa', 'java', 'webdev', 'blockchain', 'cloud' , 'juilia']"
   ]
  },
  {
   "cell_type": "code",
   "execution_count": null,
   "id": "9985ab65",
   "metadata": {
    "id": "9ca17bec-d656-4b3e-9d46-18daadd148d4",
    "outputId": "1534b716-c9ab-4840-8bf2-91f0df42a7f3"
   },
   "outputs": [
    {
     "data": {
      "text/plain": [
       "{'course ': ['dsa', 'java', 'webdev', 'blockchain', 'cloud', 'juilia'],\n",
       " 'mentor': ('sudh', 'krish', 'viswa', 'sourganshu', 'sunny '),\n",
       " 'price': {3500, 11000, 15000, 20000},\n",
       " 'duration': 1,\n",
       " 'access year': 1,\n",
       " 'syllabus': {'python': ['core python',\n",
       "   'oops',\n",
       "   'pandas',\n",
       "   'numpy',\n",
       "   'db',\n",
       "   'mongodb'],\n",
       "  'ml': ['supervised', 'unsupervised', 'semisupervised']}}"
      ]
     },
     "execution_count": 300,
     "metadata": {},
     "output_type": "execute_result"
    }
   ],
   "source": [
    "d4"
   ]
  }
 ],
 "metadata": {
  "colab": {
   "provenance": []
  },
  "kernelspec": {
   "display_name": "Python 3 (ipykernel)",
   "language": "python",
   "name": "python3"
  },
  "language_info": {
   "codemirror_mode": {
    "name": "ipython",
    "version": 3
   },
   "file_extension": ".py",
   "mimetype": "text/x-python",
   "name": "python",
   "nbconvert_exporter": "python",
   "pygments_lexer": "ipython3",
   "version": "3.11.5"
  }
 },
 "nbformat": 4,
 "nbformat_minor": 5
}
