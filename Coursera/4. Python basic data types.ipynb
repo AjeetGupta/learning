{
 "cells": [
  {
   "cell_type": "code",
   "execution_count": 2,
   "id": "793af08c",
   "metadata": {
    "id": "c126b452-fa1e-434b-9d11-32e293b8d21d"
   },
   "outputs": [],
   "source": [
    "l = []"
   ]
  },
  {
   "cell_type": "code",
   "execution_count": 3,
   "id": "92ac4956",
   "metadata": {
    "id": "b5da2649-628b-4c32-bc56-fe221eaba405",
    "outputId": "da012e4a-2c42-4f50-93d7-443ae81e4cb2"
   },
   "outputs": [
    {
     "data": {
      "text/plain": [
       "list"
      ]
     },
     "execution_count": 3,
     "metadata": {},
     "output_type": "execute_result"
    }
   ],
   "source": [
    "type(l)"
   ]
  },
  {
   "cell_type": "code",
   "execution_count": 2,
   "id": "fc255d12",
   "metadata": {
    "id": "ee3f8688-3349-4583-89b8-c7465630bb72"
   },
   "outputs": [],
   "source": [
    "l1 = [1,2,3,4,5, \"AAA\" , \"ZZZ\" , 3+6j , 345.565, True,[3,4,5,6]]"
   ]
  },
  {
   "cell_type": "code",
   "execution_count": 3,
   "id": "f2abbe6d",
   "metadata": {},
   "outputs": [
    {
     "data": {
      "text/plain": [
       "list"
      ]
     },
     "execution_count": 3,
     "metadata": {},
     "output_type": "execute_result"
    }
   ],
   "source": [
    "type(l1)"
   ]
  },
  {
   "cell_type": "code",
   "execution_count": 5,
   "id": "9e08e83c",
   "metadata": {
    "id": "9bae05a2-2d29-45a8-8f58-7285b23e542a",
    "outputId": "ba80f35a-0563-4aee-a108-3926f4a99e0a"
   },
   "outputs": [
    {
     "data": {
      "text/plain": [
       "[1, 2, 3, 4, 5, 'AAA', 'ZZZ', (3+6j), 345.565, True, [3, 4, 5, 6]]"
      ]
     },
     "execution_count": 5,
     "metadata": {},
     "output_type": "execute_result"
    }
   ],
   "source": [
    "l1"
   ]
  },
  {
   "cell_type": "code",
   "execution_count": 6,
   "id": "072ad6e4",
   "metadata": {
    "id": "4b841fa7-48af-4ec6-8305-a5f51ac4276e"
   },
   "outputs": [],
   "source": [
    "s= 'fsfd3242&^^^*'"
   ]
  },
  {
   "cell_type": "code",
   "execution_count": 7,
   "id": "5c0cd3ea",
   "metadata": {
    "id": "271e98ac-c358-4c21-99bd-eee4018b88b5",
    "outputId": "416a47d7-b91f-4f22-dd3e-e4a808f2f503"
   },
   "outputs": [
    {
     "data": {
      "text/plain": [
       "list"
      ]
     },
     "execution_count": 7,
     "metadata": {},
     "output_type": "execute_result"
    }
   ],
   "source": [
    "type(l1)"
   ]
  },
  {
   "cell_type": "code",
   "execution_count": 8,
   "id": "0ae8d1a0",
   "metadata": {
    "id": "f3adbbea-806b-41ab-8a10-48f11946a052",
    "outputId": "f28feb18-7f53-400a-c7a3-ed997e764150"
   },
   "outputs": [
    {
     "data": {
      "text/plain": [
       "'AAA'"
      ]
     },
     "execution_count": 8,
     "metadata": {},
     "output_type": "execute_result"
    }
   ],
   "source": [
    "l1[5]"
   ]
  },
  {
   "cell_type": "code",
   "execution_count": 9,
   "id": "0a5466e8",
   "metadata": {
    "id": "549a91e3-be41-470d-9e9a-7690f4b92963",
    "outputId": "ee128b98-c9e1-4e56-9968-3abf236a14d7"
   },
   "outputs": [
    {
     "data": {
      "text/plain": [
       "6"
      ]
     },
     "execution_count": 9,
     "metadata": {},
     "output_type": "execute_result"
    }
   ],
   "source": [
    "### Check again , why the result is 6\n",
    "l1[-1][3]"
   ]
  },
  {
   "cell_type": "code",
   "execution_count": 10,
   "id": "c798e28c",
   "metadata": {
    "id": "7578fb5f-41b7-4a15-af65-0479443e0475",
    "outputId": "f3a253de-6741-4cd2-fcfa-965a2dae7cd3"
   },
   "outputs": [
    {
     "data": {
      "text/plain": [
       "[1, 2, 3, 4, 5, 'AAA', 'ZZZ', (3+6j), 345.565, True, [3, 4, 5, 6]]"
      ]
     },
     "execution_count": 10,
     "metadata": {},
     "output_type": "execute_result"
    }
   ],
   "source": [
    "l1"
   ]
  },
  {
   "cell_type": "code",
   "execution_count": 11,
   "id": "ad041c37",
   "metadata": {
    "id": "f728bdf5-ddf3-465e-bfd5-40be2fa084c0",
    "outputId": "ccfcbf78-0ff2-42ae-e3e5-d7d95169ddaa"
   },
   "outputs": [
    {
     "data": {
      "text/plain": [
       "[1, 2, 3, 4, 5]"
      ]
     },
     "execution_count": 11,
     "metadata": {},
     "output_type": "execute_result"
    }
   ],
   "source": [
    "l1[0:5]"
   ]
  },
  {
   "cell_type": "code",
   "execution_count": 12,
   "id": "86276711",
   "metadata": {
    "id": "7057a6e0-1fd9-4d66-98ee-e3402036db13"
   },
   "outputs": [],
   "source": [
    "l2 = [3,4,5,\"BBB\",\"CCC\"]"
   ]
  },
  {
   "cell_type": "code",
   "execution_count": 13,
   "id": "c7f8bbc1",
   "metadata": {
    "id": "488a77ef-c5b7-4d0c-8ecf-6e1d974bbed7",
    "outputId": "70f546a9-b34c-4b07-b303-d3817db48450"
   },
   "outputs": [
    {
     "data": {
      "text/plain": [
       "[1,\n",
       " 2,\n",
       " 3,\n",
       " 4,\n",
       " 5,\n",
       " 'AAA',\n",
       " 'ZZZ',\n",
       " (3+6j),\n",
       " 345.565,\n",
       " True,\n",
       " [3, 4, 5, 6],\n",
       " 3,\n",
       " 4,\n",
       " 5,\n",
       " 'BBB',\n",
       " 'CCC']"
      ]
     },
     "execution_count": 13,
     "metadata": {},
     "output_type": "execute_result"
    }
   ],
   "source": [
    "l1+l2"
   ]
  },
  {
   "cell_type": "code",
   "execution_count": 15,
   "id": "29de6c3c",
   "metadata": {
    "id": "68dbd53d-7937-4bdc-ba48-6a0f3afd9722",
    "outputId": "d93a03f8-83c1-4d14-cdab-4b7ebfea0d3c"
   },
   "outputs": [
    {
     "ename": "TypeError",
     "evalue": "can only concatenate list (not \"str\") to list",
     "output_type": "error",
     "traceback": [
      "\u001b[1;31m---------------------------------------------------------------------------\u001b[0m",
      "\u001b[1;31mTypeError\u001b[0m                                 Traceback (most recent call last)",
      "\u001b[1;32m<ipython-input-15-14b085fa843c>\u001b[0m in \u001b[0;36m<module>\u001b[1;34m\u001b[0m\n\u001b[1;32m----> 1\u001b[1;33m \u001b[0ml2\u001b[0m\u001b[1;33m+\u001b[0m \u001b[1;34m\"AAA\"\u001b[0m\u001b[1;33m\u001b[0m\u001b[1;33m\u001b[0m\u001b[0m\n\u001b[0m",
      "\u001b[1;31mTypeError\u001b[0m: can only concatenate list (not \"str\") to list"
     ]
    }
   ],
   "source": [
    "l2+ \"AAA\""
   ]
  },
  {
   "cell_type": "code",
   "execution_count": 16,
   "id": "c40789db",
   "metadata": {
    "id": "b1356f60-7734-4bcd-bf86-41e0072c7ea9",
    "outputId": "66e1c3be-3d6c-424b-b472-f5cf4b4ea7ad"
   },
   "outputs": [
    {
     "data": {
      "text/plain": [
       "['s', 'u', 'd', 'h']"
      ]
     },
     "execution_count": 16,
     "metadata": {},
     "output_type": "execute_result"
    }
   ],
   "source": [
    "list(\"sudh\")"
   ]
  },
  {
   "cell_type": "code",
   "execution_count": 17,
   "id": "33e10f8a",
   "metadata": {
    "id": "cab458eb-0049-4b3c-95b6-d64f3b5a7c5c",
    "outputId": "6df0c1cf-a916-4216-d184-f2e7e6db1acf"
   },
   "outputs": [
    {
     "ename": "TypeError",
     "evalue": "'int' object is not iterable",
     "output_type": "error",
     "traceback": [
      "\u001b[1;31m---------------------------------------------------------------------------\u001b[0m",
      "\u001b[1;31mTypeError\u001b[0m                                 Traceback (most recent call last)",
      "\u001b[1;32m<ipython-input-17-0f204f296e5b>\u001b[0m in \u001b[0;36m<module>\u001b[1;34m\u001b[0m\n\u001b[1;32m----> 1\u001b[1;33m \u001b[0mlist\u001b[0m\u001b[1;33m(\u001b[0m\u001b[1;36m345\u001b[0m\u001b[1;33m)\u001b[0m\u001b[1;33m\u001b[0m\u001b[1;33m\u001b[0m\u001b[0m\n\u001b[0m",
      "\u001b[1;31mTypeError\u001b[0m: 'int' object is not iterable"
     ]
    }
   ],
   "source": [
    "list(345)"
   ]
  },
  {
   "cell_type": "code",
   "execution_count": 18,
   "id": "86d9b611",
   "metadata": {
    "id": "780d34e1-07b3-46ce-ac95-3d6914c25ef5",
    "outputId": "2f6f481a-d197-49d1-c7a6-c8af42c5524b"
   },
   "outputs": [
    {
     "data": {
      "text/plain": [
       "[3, 4, 5, 'BBB', 'CCC']"
      ]
     },
     "execution_count": 18,
     "metadata": {},
     "output_type": "execute_result"
    }
   ],
   "source": [
    "l2"
   ]
  },
  {
   "cell_type": "code",
   "execution_count": 21,
   "id": "3dc6ce67",
   "metadata": {
    "id": "ee92bbd1-b5d3-4833-b470-1cf0baa70ce1",
    "outputId": "f355db56-e97c-4755-89d1-9da0635f4c1f"
   },
   "outputs": [
    {
     "data": {
      "text/plain": [
       "[3, 4, 5, 'BBB', 'CCC', 3, 4, 5, 'BBB', 'CCC']"
      ]
     },
     "execution_count": 21,
     "metadata": {},
     "output_type": "execute_result"
    }
   ],
   "source": [
    "### The list will repeat two times\n",
    "l2*2"
   ]
  },
  {
   "cell_type": "code",
   "execution_count": null,
   "id": "c1478a0e",
   "metadata": {
    "id": "c6e7644b-17b2-4514-82cc-d3f7d02eb681",
    "outputId": "56d24a12-2a6b-4a16-ab0d-8383dd91e28f"
   },
   "outputs": [
    {
     "data": {
      "text/plain": [
       "[3, 4, 5, 'pwskills', 'sudh']"
      ]
     },
     "execution_count": 25,
     "metadata": {},
     "output_type": "execute_result"
    }
   ],
   "source": [
    "l2"
   ]
  },
  {
   "cell_type": "code",
   "execution_count": 23,
   "id": "76c4cacc",
   "metadata": {
    "id": "3ffebcb7-63f9-429f-97c6-5b5aa7e325e0"
   },
   "outputs": [],
   "source": [
    "### To assign value in a list\n",
    "l2[0] = 333"
   ]
  },
  {
   "cell_type": "code",
   "execution_count": 24,
   "id": "3ec97173",
   "metadata": {
    "id": "e93b8fbd-0758-4222-a0b0-7eb8ce26d8c3",
    "outputId": "1869ced2-be13-4dda-86b2-126a76c98e46"
   },
   "outputs": [
    {
     "data": {
      "text/plain": [
       "[333, 4, 5, 'BBB', 'CCC']"
      ]
     },
     "execution_count": 24,
     "metadata": {},
     "output_type": "execute_result"
    }
   ],
   "source": [
    "l2"
   ]
  },
  {
   "cell_type": "code",
   "execution_count": 27,
   "id": "b66aed62",
   "metadata": {
    "id": "07c29dbc-e3c7-4e66-b44c-20a5d6e6a2c5"
   },
   "outputs": [],
   "source": [
    "### Declaration of Tuple\n",
    "t = (1,2,3,4,\"AAA\", \"BBB\", 4+56j , True)"
   ]
  },
  {
   "cell_type": "code",
   "execution_count": 28,
   "id": "35b15d9c",
   "metadata": {
    "id": "48d69068-551f-4d4b-8da2-71d2aa0b96c3",
    "outputId": "e518b8e6-e34f-44b9-b132-4878a4577b4b"
   },
   "outputs": [
    {
     "data": {
      "text/plain": [
       "tuple"
      ]
     },
     "execution_count": 28,
     "metadata": {},
     "output_type": "execute_result"
    }
   ],
   "source": [
    "type(t)"
   ]
  },
  {
   "cell_type": "code",
   "execution_count": 29,
   "id": "4d7d0c6c",
   "metadata": {
    "id": "9948aec2-f051-49a7-8bd9-4f5eab8cc514",
    "outputId": "74cda8f2-f575-49d9-f6d7-ebae14596a8d"
   },
   "outputs": [
    {
     "data": {
      "text/plain": [
       "1"
      ]
     },
     "execution_count": 29,
     "metadata": {},
     "output_type": "execute_result"
    }
   ],
   "source": [
    "t[0]"
   ]
  },
  {
   "cell_type": "code",
   "execution_count": 30,
   "id": "4e560478",
   "metadata": {
    "id": "6f2ae07c-c5f8-4f70-bea7-f42d04e32c85",
    "outputId": "39ca8c9d-4be7-4155-f0af-76e71a6f26be"
   },
   "outputs": [
    {
     "data": {
      "text/plain": [
       "True"
      ]
     },
     "execution_count": 30,
     "metadata": {},
     "output_type": "execute_result"
    }
   ],
   "source": [
    "t[-1]"
   ]
  },
  {
   "cell_type": "code",
   "execution_count": 31,
   "id": "61b0df2c",
   "metadata": {
    "id": "7c298e14-cb69-44a9-873a-8a85d9af9915",
    "outputId": "a479ad8b-5231-4a72-8413-99b2f1409aed"
   },
   "outputs": [
    {
     "data": {
      "text/plain": [
       "(True, (4+56j), 'BBB', 'AAA', 4, 3, 2, 1)"
      ]
     },
     "execution_count": 31,
     "metadata": {},
     "output_type": "execute_result"
    }
   ],
   "source": [
    "### [start:end:step]\n",
    "t[::-1]"
   ]
  },
  {
   "cell_type": "code",
   "execution_count": 32,
   "id": "26c58c2b",
   "metadata": {
    "id": "8c529506-e80f-48b6-9901-e01b4bde84d8",
    "outputId": "bad2beec-03f0-4d86-e1a7-d68e0979925c"
   },
   "outputs": [
    {
     "data": {
      "text/plain": [
       "(1, 2, 3, 4, 'AAA', 'BBB', (4+56j), True)"
      ]
     },
     "execution_count": 32,
     "metadata": {},
     "output_type": "execute_result"
    }
   ],
   "source": [
    "t"
   ]
  },
  {
   "cell_type": "code",
   "execution_count": 33,
   "id": "f0365f72",
   "metadata": {
    "id": "067016f7-7e15-4f74-a3af-98bf09c1f463",
    "outputId": "cd55a692-da22-4bb4-d0e0-f7759effc54e"
   },
   "outputs": [
    {
     "ename": "TypeError",
     "evalue": "'tuple' object does not support item assignment",
     "output_type": "error",
     "traceback": [
      "\u001b[1;31m---------------------------------------------------------------------------\u001b[0m",
      "\u001b[1;31mTypeError\u001b[0m                                 Traceback (most recent call last)",
      "\u001b[1;32m<ipython-input-33-72291e26b20d>\u001b[0m in \u001b[0;36m<module>\u001b[1;34m\u001b[0m\n\u001b[1;32m----> 1\u001b[1;33m \u001b[0mt\u001b[0m\u001b[1;33m[\u001b[0m\u001b[1;36m0\u001b[0m\u001b[1;33m]\u001b[0m \u001b[1;33m=\u001b[0m \u001b[1;34m\"AAAA\"\u001b[0m\u001b[1;33m\u001b[0m\u001b[1;33m\u001b[0m\u001b[0m\n\u001b[0m",
      "\u001b[1;31mTypeError\u001b[0m: 'tuple' object does not support item assignment"
     ]
    }
   ],
   "source": [
    "###Tuples in Python are designed to be immutable, \n",
    "### which means their elements cannot be modified or reassigned after creation. \n",
    "### This is why tuple objects do not support item assignment\n",
    "t[0] = \"AAAA\""
   ]
  },
  {
   "cell_type": "code",
   "execution_count": 34,
   "id": "a61236eb",
   "metadata": {
    "id": "cea12fc2-d9ae-4046-bcc0-32c02baa420e"
   },
   "outputs": [],
   "source": [
    "t1 = (5,6,7,8,9)"
   ]
  },
  {
   "cell_type": "code",
   "execution_count": 35,
   "id": "92f3e6dc",
   "metadata": {
    "id": "fd67837b-a3f7-4326-97b0-b2c39a2ece2e",
    "outputId": "24575429-ae8f-4190-b786-01916a1f2047"
   },
   "outputs": [
    {
     "data": {
      "text/plain": [
       "(1, 2, 3, 4, 'AAA', 'BBB', (4+56j), True)"
      ]
     },
     "execution_count": 35,
     "metadata": {},
     "output_type": "execute_result"
    }
   ],
   "source": [
    "t"
   ]
  },
  {
   "cell_type": "code",
   "execution_count": 36,
   "id": "b0204f7f",
   "metadata": {
    "id": "51f63141-9669-4146-93fa-ca9a4159dfae",
    "outputId": "428eb45c-3cba-4dbe-90ad-7ca2e0f3eaff"
   },
   "outputs": [
    {
     "data": {
      "text/plain": [
       "(5, 6, 7, 8, 9)"
      ]
     },
     "execution_count": 36,
     "metadata": {},
     "output_type": "execute_result"
    }
   ],
   "source": [
    "t1"
   ]
  },
  {
   "cell_type": "code",
   "execution_count": 38,
   "id": "b16b1ebc",
   "metadata": {
    "id": "f3db477b-64b4-46fe-8e77-4876097eb77f",
    "outputId": "784d56d4-b869-41ff-e47a-a4125c542c53"
   },
   "outputs": [
    {
     "data": {
      "text/plain": [
       "(1, 2, 3, 4, 'AAA', 'BBB', (4+56j), True, 5, 6, 7, 8, 9)"
      ]
     },
     "execution_count": 38,
     "metadata": {},
     "output_type": "execute_result"
    }
   ],
   "source": [
    "t+t1"
   ]
  },
  {
   "cell_type": "code",
   "execution_count": 39,
   "id": "88c422cf",
   "metadata": {
    "id": "3706621d-60de-454b-acde-59eb7b06a807",
    "outputId": "d8a243b5-b48c-43b1-e7a7-e8497e771f16"
   },
   "outputs": [
    {
     "data": {
      "text/plain": [
       "(1,\n",
       " 2,\n",
       " 3,\n",
       " 4,\n",
       " 'AAA',\n",
       " 'BBB',\n",
       " (4+56j),\n",
       " True,\n",
       " 1,\n",
       " 2,\n",
       " 3,\n",
       " 4,\n",
       " 'AAA',\n",
       " 'BBB',\n",
       " (4+56j),\n",
       " True)"
      ]
     },
     "execution_count": 39,
     "metadata": {},
     "output_type": "execute_result"
    }
   ],
   "source": [
    "t*2"
   ]
  },
  {
   "cell_type": "code",
   "execution_count": 45,
   "id": "c634e7c0",
   "metadata": {
    "id": "b1c91fb2-3b80-410e-ae6c-78bd88518829",
    "outputId": "0e5a92e8-f00a-4266-93f6-a787f0952de4"
   },
   "outputs": [
    {
     "data": {
      "text/plain": [
       "(1, 2, 3, 4, 'AAA', 'BBB', (4+56j), True)"
      ]
     },
     "execution_count": 45,
     "metadata": {},
     "output_type": "execute_result"
    }
   ],
   "source": [
    "t"
   ]
  },
  {
   "cell_type": "code",
   "execution_count": 46,
   "id": "f4e9c8cb",
   "metadata": {
    "id": "e0b46925-2a0b-4aa5-8200-790097c712f1",
    "outputId": "8e395f77-0daa-484c-859f-a3860ad47843"
   },
   "outputs": [
    {
     "data": {
      "text/plain": [
       "[1, 2, 3, 4, 'AAA', 'BBB', (4+56j), True]"
      ]
     },
     "execution_count": 46,
     "metadata": {},
     "output_type": "execute_result"
    }
   ],
   "source": [
    "### We can convert tuple into list\n",
    "list(t)"
   ]
  },
  {
   "cell_type": "code",
   "execution_count": 42,
   "id": "a2ed4f1b",
   "metadata": {
    "id": "0f891a63-5b52-4878-9320-ec49dc1546ae",
    "outputId": "e303f03b-23b1-4b5b-b009-2cfeb8cf5484"
   },
   "outputs": [
    {
     "data": {
      "text/plain": [
       "[333, 4, 5, 'BBB', 'CCC']"
      ]
     },
     "execution_count": 42,
     "metadata": {},
     "output_type": "execute_result"
    }
   ],
   "source": [
    "l2"
   ]
  },
  {
   "cell_type": "code",
   "execution_count": 44,
   "id": "c5abbac5",
   "metadata": {
    "id": "f15a2034-b9e6-4925-b80f-4f6a3e87d63d",
    "outputId": "9b85c504-e10d-4a96-a962-e5ddf3d89d6b"
   },
   "outputs": [
    {
     "data": {
      "text/plain": [
       "(333, 4, 5, 'BBB', 'CCC')"
      ]
     },
     "execution_count": 44,
     "metadata": {},
     "output_type": "execute_result"
    }
   ],
   "source": [
    "### We can convert list into tuple \n",
    "tuple(l2)"
   ]
  },
  {
   "cell_type": "code",
   "execution_count": null,
   "id": "45b6c26e",
   "metadata": {
    "id": "1005461a-528b-4fe0-87a4-5e87ce574030",
    "outputId": "6703fbe1-355d-43ad-96aa-493c886bf891"
   },
   "outputs": [
    {
     "data": {
      "text/plain": [
       "8"
      ]
     },
     "execution_count": 46,
     "metadata": {},
     "output_type": "execute_result"
    }
   ],
   "source": [
    "len(t)"
   ]
  },
  {
   "cell_type": "code",
   "execution_count": null,
   "id": "6932be43",
   "metadata": {
    "id": "2d96a830-8cf8-4d99-8e1a-e75a6f7b2910",
    "outputId": "c642f138-1855-48bd-824b-f266477da707"
   },
   "outputs": [
    {
     "data": {
      "text/plain": [
       "11"
      ]
     },
     "execution_count": 48,
     "metadata": {},
     "output_type": "execute_result"
    }
   ],
   "source": [
    "len(\"sud       h\")"
   ]
  },
  {
   "cell_type": "code",
   "execution_count": null,
   "id": "818d7f71",
   "metadata": {
    "id": "512b5a57-5b57-47b8-a907-809b3c1ebd31",
    "outputId": "a0c939c4-d189-47f2-fc5b-b71b1b95c304"
   },
   "outputs": [
    {
     "data": {
      "text/plain": [
       "11"
      ]
     },
     "execution_count": 49,
     "metadata": {},
     "output_type": "execute_result"
    }
   ],
   "source": [
    "len(l1)"
   ]
  },
  {
   "cell_type": "code",
   "execution_count": null,
   "id": "e80e46f2",
   "metadata": {
    "id": "8e73597f-c1ed-4d35-b738-4fb895c942bc",
    "outputId": "e831245c-7803-49a9-e32f-6f847932c815"
   },
   "outputs": [
    {
     "data": {
      "text/plain": [
       "[1, 2, 3, 4, 5, 'sudh', 'kumar', (3+6j), 345.565, True, [3, 4, 5, 6]]"
      ]
     },
     "execution_count": 50,
     "metadata": {},
     "output_type": "execute_result"
    }
   ],
   "source": [
    "l1"
   ]
  },
  {
   "cell_type": "code",
   "execution_count": null,
   "id": "1bde786e",
   "metadata": {
    "id": "cd08dd09-9304-41a8-b43c-f5f25e3e0168"
   },
   "outputs": [],
   "source": [
    "s = {}"
   ]
  },
  {
   "cell_type": "code",
   "execution_count": null,
   "id": "dade57cf",
   "metadata": {
    "id": "190694a2-a9e7-48a8-9968-686cd7421993",
    "outputId": "48f3445a-83dd-40a6-ce40-696c8e1b3479"
   },
   "outputs": [
    {
     "data": {
      "text/plain": [
       "dict"
      ]
     },
     "execution_count": 52,
     "metadata": {},
     "output_type": "execute_result"
    }
   ],
   "source": [
    "type(s)"
   ]
  },
  {
   "cell_type": "code",
   "execution_count": 1,
   "id": "b4a34951",
   "metadata": {
    "id": "3ccd0c85-0a85-425a-bf1f-c18cea395a8a"
   },
   "outputs": [],
   "source": [
    "s1 = {1,2,3,4,5,5}"
   ]
  },
  {
   "cell_type": "code",
   "execution_count": 2,
   "id": "4ef62577",
   "metadata": {
    "id": "b455a787-a32c-4f4a-b06e-5806e7841c4a",
    "outputId": "c9c9ebf2-a060-4688-f32e-04d59daaef5a"
   },
   "outputs": [
    {
     "data": {
      "text/plain": [
       "set"
      ]
     },
     "execution_count": 2,
     "metadata": {},
     "output_type": "execute_result"
    }
   ],
   "source": [
    "type(s1)"
   ]
  },
  {
   "cell_type": "code",
   "execution_count": null,
   "id": "7c549317",
   "metadata": {
    "id": "fcc8c50b-23c4-474b-970a-baf33b45a799",
    "outputId": "092abffa-c32e-4f1d-9a0a-c89dd5df8131"
   },
   "outputs": [
    {
     "data": {
      "text/plain": [
       "{1, 2, 3, 4, 5}"
      ]
     },
     "execution_count": 55,
     "metadata": {},
     "output_type": "execute_result"
    }
   ],
   "source": [
    "s1"
   ]
  },
  {
   "cell_type": "code",
   "execution_count": 53,
   "id": "d48838c3",
   "metadata": {
    "id": "dfa75c24-67c0-4cb3-8d0a-8f6aa08757ad"
   },
   "outputs": [],
   "source": [
    "### To define and declare set\n",
    "s2 ={ \"AAA\" , \"BBB\" , \"CCC\" , 1,2,3,4,2,3,4,5,5,6,7,8}"
   ]
  },
  {
   "cell_type": "code",
   "execution_count": 54,
   "id": "85c52f55",
   "metadata": {
    "id": "3e1cd8b5-80c2-42fc-9984-cd51faea0ed9",
    "outputId": "01cf6bde-b1f9-4f9c-ecc9-f1f14b8bd4d2"
   },
   "outputs": [
    {
     "data": {
      "text/plain": [
       "{1, 2, 3, 4, 5, 6, 7, 8, 'AAA', 'BBB', 'CCC'}"
      ]
     },
     "execution_count": 54,
     "metadata": {},
     "output_type": "execute_result"
    }
   ],
   "source": [
    "s2"
   ]
  },
  {
   "cell_type": "code",
   "execution_count": 55,
   "id": "9aedfeee",
   "metadata": {},
   "outputs": [
    {
     "data": {
      "text/plain": [
       "set"
      ]
     },
     "execution_count": 55,
     "metadata": {},
     "output_type": "execute_result"
    }
   ],
   "source": [
    "type(s2)"
   ]
  },
  {
   "cell_type": "code",
   "execution_count": 57,
   "id": "e7362d8a",
   "metadata": {
    "id": "5f83779e-d870-4338-98fc-4900d5562df9",
    "outputId": "91d5be97-68e6-487b-b5b4-1e6f0c9d94aa"
   },
   "outputs": [
    {
     "data": {
      "text/plain": [
       "['AAA', 2, 1, 3, 4, 5, 6, 7, 8, 'CCC', 'BBB']"
      ]
     },
     "execution_count": 57,
     "metadata": {},
     "output_type": "execute_result"
    }
   ],
   "source": [
    "### Convert Set into list\n",
    "list(s2)"
   ]
  },
  {
   "cell_type": "code",
   "execution_count": 59,
   "id": "8d623997",
   "metadata": {
    "id": "2f1ed5f9-63a7-40a2-8c58-b7c9a6fd9ada",
    "outputId": "c5c233ed-87d5-42b9-9bd0-e58593172ec0"
   },
   "outputs": [
    {
     "data": {
      "text/plain": [
       "{333, 4, 5, 'BBB', 'CCC'}"
      ]
     },
     "execution_count": 59,
     "metadata": {},
     "output_type": "execute_result"
    }
   ],
   "source": [
    "### To convert list into set\n",
    "set(l2)"
   ]
  },
  {
   "cell_type": "code",
   "execution_count": 60,
   "id": "3f6d1067",
   "metadata": {
    "id": "5fec1515-13f3-445c-9311-7c3de7b51806",
    "outputId": "1c55b306-ce2f-4090-f55b-acb9c8bf891e"
   },
   "outputs": [
    {
     "data": {
      "text/plain": [
       "[1, 2, 3, 4, 5, 'AAA', 'ZZZ', (3+6j), 345.565, True, [3, 4, 5, 6]]"
      ]
     },
     "execution_count": 60,
     "metadata": {},
     "output_type": "execute_result"
    }
   ],
   "source": [
    "l1"
   ]
  },
  {
   "cell_type": "code",
   "execution_count": 61,
   "id": "a30821da",
   "metadata": {
    "id": "2bf45afc-55a3-46e6-b300-92387eb9ba13",
    "outputId": "9dada6af-1816-4660-e627-7adf02a5b7c7"
   },
   "outputs": [
    {
     "ename": "TypeError",
     "evalue": "unhashable type: 'list'",
     "output_type": "error",
     "traceback": [
      "\u001b[1;31m---------------------------------------------------------------------------\u001b[0m",
      "\u001b[1;31mTypeError\u001b[0m                                 Traceback (most recent call last)",
      "\u001b[1;32m<ipython-input-61-39a5e4a8fabd>\u001b[0m in \u001b[0;36m<module>\u001b[1;34m\u001b[0m\n\u001b[1;32m----> 1\u001b[1;33m \u001b[0mset\u001b[0m\u001b[1;33m(\u001b[0m\u001b[0ml1\u001b[0m\u001b[1;33m)\u001b[0m\u001b[1;33m\u001b[0m\u001b[1;33m\u001b[0m\u001b[0m\n\u001b[0m",
      "\u001b[1;31mTypeError\u001b[0m: unhashable type: 'list'"
     ]
    }
   ],
   "source": [
    "set(l1)"
   ]
  },
  {
   "cell_type": "code",
   "execution_count": 62,
   "id": "baa9f342",
   "metadata": {
    "id": "85dcd6cf-b50e-415c-957e-a894d304237a",
    "outputId": "9a563773-7aa7-4f62-c948-1115069b3c5d"
   },
   "outputs": [
    {
     "data": {
      "text/plain": [
       "('AAA', 2, 1, 3, 4, 5, 6, 7, 8, 'CCC', 'BBB')"
      ]
     },
     "execution_count": 62,
     "metadata": {},
     "output_type": "execute_result"
    }
   ],
   "source": [
    "tuple(s2)"
   ]
  },
  {
   "cell_type": "code",
   "execution_count": null,
   "id": "453fb56f",
   "metadata": {
    "id": "64f1b7ca-e821-4f96-bd13-b2e5a39247d5",
    "outputId": "255a6240-56b3-4080-c673-9fc1da9010ad"
   },
   "outputs": [
    {
     "data": {
      "text/plain": [
       "{1, 2, 3, 4, 5, 6, 7, 8, 'Sudh', 'sudh'}"
      ]
     },
     "execution_count": 64,
     "metadata": {},
     "output_type": "execute_result"
    }
   ],
   "source": [
    "s2"
   ]
  },
  {
   "cell_type": "code",
   "execution_count": 63,
   "id": "755e7a63",
   "metadata": {
    "id": "6118a984-a794-4e0f-9800-1403a035e8a4",
    "outputId": "911bd974-d68a-4dd7-d13c-8d1e6cadc4c1"
   },
   "outputs": [
    {
     "ename": "TypeError",
     "evalue": "'set' object does not support indexing",
     "output_type": "error",
     "traceback": [
      "\u001b[1;31m---------------------------------------------------------------------------\u001b[0m",
      "\u001b[1;31mTypeError\u001b[0m                                 Traceback (most recent call last)",
      "\u001b[1;32m<ipython-input-63-ab7c8e26b0d3>\u001b[0m in \u001b[0;36m<module>\u001b[1;34m\u001b[0m\n\u001b[1;32m----> 1\u001b[1;33m \u001b[0ms2\u001b[0m\u001b[1;33m[\u001b[0m\u001b[1;36m0\u001b[0m\u001b[1;33m]\u001b[0m\u001b[1;33m\u001b[0m\u001b[1;33m\u001b[0m\u001b[0m\n\u001b[0m",
      "\u001b[1;31mTypeError\u001b[0m: 'set' object does not support indexing"
     ]
    }
   ],
   "source": [
    "s2[0]"
   ]
  },
  {
   "cell_type": "code",
   "execution_count": 83,
   "id": "124759a5",
   "metadata": {
    "id": "7d67a2dc-fe01-4e04-ab90-969c216dc317"
   },
   "outputs": [],
   "source": [
    "s3 = {345,456456,23,12,34,56,78,12,12,34,34,56,56,\"AAAAA\" , 234.56}"
   ]
  },
  {
   "cell_type": "code",
   "execution_count": 84,
   "id": "66d41f77",
   "metadata": {
    "id": "5f6aab35-c4c7-482b-82b8-30066af9baaa",
    "outputId": "f3735002-0e78-4bc3-c782-8dda8fa8cbe5"
   },
   "outputs": [
    {
     "data": {
      "text/plain": [
       "{12, 23, 234.56, 34, 345, 456456, 56, 78, 'AAAAA'}"
      ]
     },
     "execution_count": 84,
     "metadata": {},
     "output_type": "execute_result"
    }
   ],
   "source": [
    "s3"
   ]
  },
  {
   "cell_type": "code",
   "execution_count": 87,
   "id": "c277f72d",
   "metadata": {},
   "outputs": [],
   "source": [
    "### Set will contain all the unique value\n",
    "s4 = {345,456456,23,12,34,56,78,12,12,34,34,56,56,\"AAAAA\" , 234.56}"
   ]
  },
  {
   "cell_type": "code",
   "execution_count": 86,
   "id": "e60d923a",
   "metadata": {},
   "outputs": [
    {
     "data": {
      "text/plain": [
       "{12, 23, 234.56, 34, 345, 456456, 56, 78, 'AAAAA'}"
      ]
     },
     "execution_count": 86,
     "metadata": {},
     "output_type": "execute_result"
    }
   ],
   "source": [
    "s4"
   ]
  },
  {
   "cell_type": "code",
   "execution_count": 88,
   "id": "b4044afe",
   "metadata": {
    "id": "5434d010-b1e3-4e33-b40b-bb9f602a274b"
   },
   "outputs": [],
   "source": [
    "### To define the dictionary\n",
    "d= {}"
   ]
  },
  {
   "cell_type": "code",
   "execution_count": 89,
   "id": "5754d45e",
   "metadata": {
    "id": "e9532bc0-783f-4708-aeb8-32bc3070e0fe",
    "outputId": "669bae2b-bdbf-49ea-ed98-fb93bb7e458b"
   },
   "outputs": [
    {
     "data": {
      "text/plain": [
       "dict"
      ]
     },
     "execution_count": 89,
     "metadata": {},
     "output_type": "execute_result"
    }
   ],
   "source": [
    "type(d)"
   ]
  },
  {
   "cell_type": "code",
   "execution_count": 90,
   "id": "8f7170ec",
   "metadata": {
    "id": "4b1d11f0-4650-4f40-bbd5-8012bf983fc7"
   },
   "outputs": [],
   "source": [
    "d1 = {'name' : \"AAAA\" ,\"subject\" :[\"data science \" , \"big data \" , \"data analytics\"] , \"number\" :43242424}"
   ]
  },
  {
   "cell_type": "code",
   "execution_count": 91,
   "id": "1f3d08e0",
   "metadata": {},
   "outputs": [
    {
     "data": {
      "text/plain": [
       "dict"
      ]
     },
     "execution_count": 91,
     "metadata": {},
     "output_type": "execute_result"
    }
   ],
   "source": [
    "type(d1)"
   ]
  },
  {
   "cell_type": "code",
   "execution_count": 92,
   "id": "6c88e5ee",
   "metadata": {
    "id": "f9d9c8d3-d703-4097-80bc-d75187800d47",
    "outputId": "357bfe85-c5e6-4fd2-e795-249a5e914db8"
   },
   "outputs": [
    {
     "data": {
      "text/plain": [
       "{'name': 'AAAA',\n",
       " 'subject': ['data science ', 'big data ', 'data analytics'],\n",
       " 'number': 43242424}"
      ]
     },
     "execution_count": 92,
     "metadata": {},
     "output_type": "execute_result"
    }
   ],
   "source": [
    "d1"
   ]
  },
  {
   "cell_type": "code",
   "execution_count": 93,
   "id": "337dd4b4",
   "metadata": {
    "id": "5ce7a346-5fe2-4c3c-89e5-b63c9695fbf7"
   },
   "outputs": [],
   "source": [
    "d2 = {\"name\" :\"AAAA\" , \"name\" : \"ZZZ\",\"name\" : \"XXX\"}"
   ]
  },
  {
   "cell_type": "code",
   "execution_count": 94,
   "id": "e649aff3",
   "metadata": {
    "id": "8eef6ad0-a2b1-43b3-97b2-ba88ff29bdae",
    "outputId": "0f4563e3-353d-4e4a-c115-488d1a1215f8"
   },
   "outputs": [
    {
     "data": {
      "text/plain": [
       "{'name': 'XXX'}"
      ]
     },
     "execution_count": 94,
     "metadata": {},
     "output_type": "execute_result"
    }
   ],
   "source": [
    "d2"
   ]
  },
  {
   "cell_type": "code",
   "execution_count": 95,
   "id": "e31425c1",
   "metadata": {
    "id": "c0b2e84c-9307-464c-9338-8ffc38ad7a0c",
    "outputId": "5d00b834-1877-4491-8f11-1a12d7a4ef14"
   },
   "outputs": [
    {
     "ename": "TypeError",
     "evalue": "unhashable type: 'list'",
     "output_type": "error",
     "traceback": [
      "\u001b[1;31m---------------------------------------------------------------------------\u001b[0m",
      "\u001b[1;31mTypeError\u001b[0m                                 Traceback (most recent call last)",
      "\u001b[1;32m<ipython-input-95-def1b118fb6d>\u001b[0m in \u001b[0;36m<module>\u001b[1;34m\u001b[0m\n\u001b[1;32m----> 1\u001b[1;33m \u001b[0md3\u001b[0m \u001b[1;33m=\u001b[0m\u001b[1;33m{\u001b[0m\u001b[1;33m[\u001b[0m\u001b[1;36m1\u001b[0m\u001b[1;33m,\u001b[0m\u001b[1;36m2\u001b[0m\u001b[1;33m,\u001b[0m\u001b[1;36m3\u001b[0m\u001b[1;33m,\u001b[0m\u001b[1;36m4\u001b[0m\u001b[1;33m]\u001b[0m \u001b[1;33m:\u001b[0m \u001b[1;34m\"AAAA\"\u001b[0m\u001b[1;33m}\u001b[0m\u001b[1;33m\u001b[0m\u001b[1;33m\u001b[0m\u001b[0m\n\u001b[0m",
      "\u001b[1;31mTypeError\u001b[0m: unhashable type: 'list'"
     ]
    }
   ],
   "source": [
    "d3 ={[1,2,3,4] : \"AAAA\"}"
   ]
  },
  {
   "cell_type": "code",
   "execution_count": 96,
   "id": "25718fc3",
   "metadata": {
    "id": "28e371db-64d2-4004-9897-9e40502a2505",
    "outputId": "b2c1ff82-9de2-4b14-f685-7e0f78a780a8"
   },
   "outputs": [
    {
     "ename": "TypeError",
     "evalue": "unhashable type: 'set'",
     "output_type": "error",
     "traceback": [
      "\u001b[1;31m---------------------------------------------------------------------------\u001b[0m",
      "\u001b[1;31mTypeError\u001b[0m                                 Traceback (most recent call last)",
      "\u001b[1;32m<ipython-input-96-524fe16d364e>\u001b[0m in \u001b[0;36m<module>\u001b[1;34m\u001b[0m\n\u001b[1;32m----> 1\u001b[1;33m \u001b[0md3\u001b[0m \u001b[1;33m=\u001b[0m\u001b[1;33m{\u001b[0m\u001b[1;33m{\u001b[0m\u001b[1;36m2\u001b[0m\u001b[1;33m,\u001b[0m\u001b[1;36m32\u001b[0m\u001b[1;33m,\u001b[0m\u001b[1;36m4\u001b[0m\u001b[1;33m,\u001b[0m\u001b[1;36m4\u001b[0m\u001b[1;33m}\u001b[0m \u001b[1;33m:\u001b[0m \u001b[1;34m\"BBB\"\u001b[0m\u001b[1;33m}\u001b[0m\u001b[1;33m\u001b[0m\u001b[1;33m\u001b[0m\u001b[0m\n\u001b[0m",
      "\u001b[1;31mTypeError\u001b[0m: unhashable type: 'set'"
     ]
    }
   ],
   "source": [
    "d3 ={{2,32,4,4} : \"BBB\"}"
   ]
  },
  {
   "cell_type": "code",
   "execution_count": 97,
   "id": "3601d812",
   "metadata": {
    "id": "7a63d9bb-77e4-4156-8c72-7e89caef85ba"
   },
   "outputs": [],
   "source": [
    "d3 ={23424 : \"AAAA\"}"
   ]
  },
  {
   "cell_type": "code",
   "execution_count": 98,
   "id": "4a976c95",
   "metadata": {},
   "outputs": [
    {
     "data": {
      "text/plain": [
       "{23424: 'AAAA'}"
      ]
     },
     "execution_count": 98,
     "metadata": {},
     "output_type": "execute_result"
    }
   ],
   "source": [
    "d3"
   ]
  },
  {
   "cell_type": "code",
   "execution_count": 99,
   "id": "08cc9e69",
   "metadata": {
    "id": "e7a665f8-20b9-4e9b-b6ef-a7080a560bd1"
   },
   "outputs": [],
   "source": [
    "d3 ={(2,32,4,4) : \"AAAA\"}"
   ]
  },
  {
   "cell_type": "code",
   "execution_count": 100,
   "id": "6177f50e",
   "metadata": {
    "id": "b95318c8-4fd7-4892-bdc5-6cb2a0a375a6",
    "outputId": "fe7731a4-f7a0-4691-e0af-60b5c64f0430"
   },
   "outputs": [
    {
     "ename": "SyntaxError",
     "evalue": "invalid syntax (<ipython-input-100-6df3a1c3ed5e>, line 1)",
     "output_type": "error",
     "traceback": [
      "\u001b[1;36m  File \u001b[1;32m\"<ipython-input-100-6df3a1c3ed5e>\"\u001b[1;36m, line \u001b[1;32m1\u001b[0m\n\u001b[1;33m    d3 ={%fsf : \"AAAA\"}\u001b[0m\n\u001b[1;37m         ^\u001b[0m\n\u001b[1;31mSyntaxError\u001b[0m\u001b[1;31m:\u001b[0m invalid syntax\n"
     ]
    }
   ],
   "source": [
    "d3 ={%fsf : \"AAAA\"}"
   ]
  },
  {
   "cell_type": "code",
   "execution_count": 102,
   "id": "58e7539a",
   "metadata": {
    "id": "be055fd7-20a9-4a32-8b05-83fbe99092c5"
   },
   "outputs": [],
   "source": [
    "d3 ={\"%fsf\" : \"AAA\"}"
   ]
  },
  {
   "cell_type": "code",
   "execution_count": 103,
   "id": "e176938e",
   "metadata": {
    "id": "cd2c9ed2-8ddd-4d30-94e6-27102e3d4719"
   },
   "outputs": [],
   "source": [
    "d4 = {'course ' : ['dsa','java','webdev','blockchain' ,'cloud'] , 'mentor' :('AAA' , 'BBB' , 'CCC' , 'DDD' , 'EEE'),\n",
    "     'price' : {3500, 20000,15000, 11000,3500} , 'duration' :1 , 'access year' : 1 ,'syllabus' :{'python':['core python','oops','pandas','numpy' , 'db','mongodb'],'ml':['supervised','unsupervised','semisupervised']}}"
   ]
  },
  {
   "cell_type": "code",
   "execution_count": 104,
   "id": "d5574342",
   "metadata": {
    "id": "136ee66e-5075-48b6-bc97-44115762d12c",
    "outputId": "ea820529-1229-478b-eb9c-77a312e2bafa"
   },
   "outputs": [
    {
     "data": {
      "text/plain": [
       "{'course ': ['dsa', 'java', 'webdev', 'blockchain', 'cloud'],\n",
       " 'mentor': ('AAA', 'BBB', 'CCC', 'DDD', 'EEE'),\n",
       " 'price': {3500, 11000, 15000, 20000},\n",
       " 'duration': 1,\n",
       " 'access year': 1,\n",
       " 'syllabus': {'python': ['core python',\n",
       "   'oops',\n",
       "   'pandas',\n",
       "   'numpy',\n",
       "   'db',\n",
       "   'mongodb'],\n",
       "  'ml': ['supervised', 'unsupervised', 'semisupervised']}}"
      ]
     },
     "execution_count": 104,
     "metadata": {},
     "output_type": "execute_result"
    }
   ],
   "source": [
    "d4"
   ]
  },
  {
   "cell_type": "code",
   "execution_count": null,
   "id": "bad46211",
   "metadata": {
    "id": "295e40c1-7904-4f64-83c0-0ce8b6f95716",
    "outputId": "52ab264c-1dbc-4417-b6ae-1efae474dd93"
   },
   "outputs": [
    {
     "data": {
      "text/plain": [
       "['dsa', 'java', 'webdev', 'blockchain', 'cloud']"
      ]
     },
     "execution_count": 84,
     "metadata": {},
     "output_type": "execute_result"
    }
   ],
   "source": [
    "d4['course ']"
   ]
  },
  {
   "cell_type": "code",
   "execution_count": null,
   "id": "2c96eaec",
   "metadata": {
    "id": "b7989abc-c198-4a72-b8e6-0895bf453472",
    "outputId": "83b09c3d-9ce7-4835-a232-94c3843b6e39"
   },
   "outputs": [
    {
     "data": {
      "text/plain": [
       "('sudh', 'krish', 'viswa', 'sourganshu', 'sunny ')"
      ]
     },
     "execution_count": 86,
     "metadata": {},
     "output_type": "execute_result"
    }
   ],
   "source": [
    "d4['mentor']"
   ]
  },
  {
   "cell_type": "code",
   "execution_count": null,
   "id": "847f103d",
   "metadata": {
    "id": "2d42c5c8-5665-4597-8614-206e8a2ee46f",
    "outputId": "50f4a6a2-59c1-491d-8262-71d8a523346e"
   },
   "outputs": [
    {
     "data": {
      "text/plain": [
       "{3500, 11000, 15000, 20000}"
      ]
     },
     "execution_count": 87,
     "metadata": {},
     "output_type": "execute_result"
    }
   ],
   "source": [
    "d4['price']"
   ]
  },
  {
   "cell_type": "code",
   "execution_count": 105,
   "id": "7b741378",
   "metadata": {
    "id": "f214c806-5359-44cb-8c45-63a04e344f31",
    "outputId": "4aa2cb6a-ae5c-42eb-e0dd-34de1777dabf"
   },
   "outputs": [
    {
     "data": {
      "text/plain": [
       "{'name': 'XXX'}"
      ]
     },
     "execution_count": 105,
     "metadata": {},
     "output_type": "execute_result"
    }
   ],
   "source": [
    "d2"
   ]
  },
  {
   "cell_type": "code",
   "execution_count": 108,
   "id": "920e115f",
   "metadata": {
    "id": "c8e6f14b-d18b-47dc-9001-6e0a20c207e1"
   },
   "outputs": [],
   "source": [
    "### To add another key with value inside the dictionary\n",
    "d2['phpne number'] =43553545"
   ]
  },
  {
   "cell_type": "code",
   "execution_count": 109,
   "id": "42d4792b",
   "metadata": {
    "id": "b35c0bc4-cdb9-4f3d-a4e5-c5355f60a313",
    "outputId": "c0e1c647-7052-4abd-994f-0c634d53e255"
   },
   "outputs": [
    {
     "data": {
      "text/plain": [
       "{'name': 'XXX', 'phpne number': 43553545}"
      ]
     },
     "execution_count": 109,
     "metadata": {},
     "output_type": "execute_result"
    }
   ],
   "source": [
    "d2"
   ]
  },
  {
   "cell_type": "code",
   "execution_count": 110,
   "id": "0870ab00",
   "metadata": {
    "id": "aa489bbe-ae17-49f1-bfaf-afa0141e356c"
   },
   "outputs": [],
   "source": [
    "d2['name'] = \"sudhanshu\""
   ]
  },
  {
   "cell_type": "code",
   "execution_count": 111,
   "id": "d8353090",
   "metadata": {
    "id": "809f9356-f50b-40ad-9822-1d566df545f2",
    "outputId": "a647ebcd-f7f4-4f71-ddb8-4481d5d5596c"
   },
   "outputs": [
    {
     "data": {
      "text/plain": [
       "{'name': 'sudhanshu', 'phpne number': 43553545}"
      ]
     },
     "execution_count": 111,
     "metadata": {},
     "output_type": "execute_result"
    }
   ],
   "source": [
    "d2"
   ]
  },
  {
   "cell_type": "markdown",
   "id": "5a64562a",
   "metadata": {
    "id": "4b8e48e8-da73-4fd0-9dea-804606bb9593"
   },
   "source": [
    "1.string\n",
    "2.list\n",
    "3.tuple\n",
    "4.set\n",
    "5.dict"
   ]
  },
  {
   "cell_type": "code",
   "execution_count": 125,
   "id": "6b8c3733",
   "metadata": {
    "id": "f680c2eb-fdbd-4952-b8f5-3266cad1bd1b"
   },
   "outputs": [],
   "source": [
    "### String and their methods\n",
    "### s1.center(40,'f')### s1.count('l'), s1.find('s'), s1.index('P'), s1.upper(),s1.lower(),s1.title(),s2.split(),\n",
    "### s2.replace('n','a'),\n",
    "s1 = \"Pwskills\""
   ]
  },
  {
   "cell_type": "code",
   "execution_count": 126,
   "id": "cef7cde8",
   "metadata": {
    "id": "9312485a-3dc5-4013-a6f4-aed17f8e9af1",
    "outputId": "686d950f-9b0d-45b5-cd4a-f31a10211f33"
   },
   "outputs": [
    {
     "data": {
      "text/plain": [
       "2"
      ]
     },
     "execution_count": 126,
     "metadata": {},
     "output_type": "execute_result"
    }
   ],
   "source": [
    "s1.count('l')"
   ]
  },
  {
   "cell_type": "code",
   "execution_count": 127,
   "id": "06fffe48",
   "metadata": {
    "id": "c0ad0c28-8d00-41c0-852c-b550c5822b30",
    "outputId": "59d6a0e5-da9c-44ff-edb3-8ad910a4ae9e"
   },
   "outputs": [
    {
     "data": {
      "text/plain": [
       "2"
      ]
     },
     "execution_count": 127,
     "metadata": {},
     "output_type": "execute_result"
    }
   ],
   "source": [
    "s1.find('s')"
   ]
  },
  {
   "cell_type": "code",
   "execution_count": 128,
   "id": "10b409eb",
   "metadata": {
    "id": "4c5c0e6b-179f-4af6-b973-1c01bd77e503",
    "outputId": "8c36b192-d8b3-418a-e7a5-e50c25304f2d"
   },
   "outputs": [
    {
     "data": {
      "text/plain": [
       "0"
      ]
     },
     "execution_count": 128,
     "metadata": {},
     "output_type": "execute_result"
    }
   ],
   "source": [
    "s1.index('P')"
   ]
  },
  {
   "cell_type": "code",
   "execution_count": 129,
   "id": "93af911f",
   "metadata": {
    "id": "70411f79-7317-4ad4-ada4-2108df3b89c2",
    "outputId": "142a11fe-7626-4072-d1df-d776cc72dfde"
   },
   "outputs": [
    {
     "data": {
      "text/plain": [
       "2"
      ]
     },
     "execution_count": 129,
     "metadata": {},
     "output_type": "execute_result"
    }
   ],
   "source": [
    "s1.index('s')"
   ]
  },
  {
   "cell_type": "code",
   "execution_count": 130,
   "id": "66d943ea",
   "metadata": {
    "id": "6c2e466b-e21a-4103-9afb-70ac7b67d89e",
    "outputId": "af54a493-ac40-4d06-8f41-7633cd19aa86"
   },
   "outputs": [
    {
     "data": {
      "text/plain": [
       "-1"
      ]
     },
     "execution_count": 130,
     "metadata": {},
     "output_type": "execute_result"
    }
   ],
   "source": [
    "s1.find('z')"
   ]
  },
  {
   "cell_type": "code",
   "execution_count": 124,
   "id": "d14cad47",
   "metadata": {
    "id": "3eb33a19-31c9-49fa-aef9-f06a830d2604",
    "outputId": "a52bdd5d-0016-4b0c-8848-9026d05f1cd1"
   },
   "outputs": [
    {
     "ename": "ValueError",
     "evalue": "substring not found",
     "output_type": "error",
     "traceback": [
      "\u001b[1;31m---------------------------------------------------------------------------\u001b[0m",
      "\u001b[1;31mValueError\u001b[0m                                Traceback (most recent call last)",
      "\u001b[1;32m<ipython-input-124-370e9eff71b3>\u001b[0m in \u001b[0;36m<module>\u001b[1;34m\u001b[0m\n\u001b[1;32m----> 1\u001b[1;33m \u001b[0ms1\u001b[0m\u001b[1;33m.\u001b[0m\u001b[0mindex\u001b[0m\u001b[1;33m(\u001b[0m\u001b[1;34m'z'\u001b[0m\u001b[1;33m)\u001b[0m\u001b[1;33m\u001b[0m\u001b[1;33m\u001b[0m\u001b[0m\n\u001b[0m",
      "\u001b[1;31mValueError\u001b[0m: substring not found"
     ]
    }
   ],
   "source": [
    "s1.index('z')"
   ]
  },
  {
   "cell_type": "code",
   "execution_count": 156,
   "id": "4ca1737d",
   "metadata": {
    "id": "6fa8bc5e-9212-4e1f-8dd2-55433aa3b83b",
    "outputId": "e2672155-236e-4635-b281-cb02498ef7c6"
   },
   "outputs": [
    {
     "data": {
      "text/plain": [
       "'Pwskills'"
      ]
     },
     "execution_count": 156,
     "metadata": {},
     "output_type": "execute_result"
    }
   ],
   "source": [
    "s1"
   ]
  },
  {
   "cell_type": "code",
   "execution_count": 157,
   "id": "f861df8e",
   "metadata": {
    "id": "9eddf9ae-5ab8-4129-b240-a048ddcf9ca7",
    "outputId": "80086570-0190-44b6-a819-fe0532482bfa"
   },
   "outputs": [
    {
     "data": {
      "text/plain": [
       "'PWSKILLS'"
      ]
     },
     "execution_count": 157,
     "metadata": {},
     "output_type": "execute_result"
    }
   ],
   "source": [
    "s1.upper()"
   ]
  },
  {
   "cell_type": "code",
   "execution_count": null,
   "id": "25633e31",
   "metadata": {
    "id": "903dacd1-bbb4-41c5-be17-af516d45f7ed",
    "outputId": "dbc200c3-c778-442e-911b-a55fe929bece"
   },
   "outputs": [
    {
     "data": {
      "text/plain": [
       "'pwskills'"
      ]
     },
     "execution_count": 106,
     "metadata": {},
     "output_type": "execute_result"
    }
   ],
   "source": [
    "s1.lower()"
   ]
  },
  {
   "cell_type": "code",
   "execution_count": 133,
   "id": "eb702810",
   "metadata": {
    "id": "0168fa09-7952-4c52-b75e-35f76ec002f2",
    "outputId": "adca8356-64cc-41b5-f7ad-2811ee4947c0"
   },
   "outputs": [
    {
     "data": {
      "text/plain": [
       "'Pwskills'"
      ]
     },
     "execution_count": 133,
     "metadata": {},
     "output_type": "execute_result"
    }
   ],
   "source": [
    "s1.title()"
   ]
  },
  {
   "cell_type": "code",
   "execution_count": 137,
   "id": "ca0dd24b",
   "metadata": {
    "id": "591cecdd-0f4b-487b-ad2d-b343bc7e2ef9"
   },
   "outputs": [],
   "source": [
    "s2= \"My name is [AAA]\""
   ]
  },
  {
   "cell_type": "code",
   "execution_count": 135,
   "id": "cdb8430a",
   "metadata": {
    "id": "5a09485b-7ec2-4701-8bf0-4d398197289d",
    "outputId": "a9bcd2ea-3635-4b8c-8715-421e7a5a6bd7"
   },
   "outputs": [
    {
     "data": {
      "text/plain": [
       "'My Name Is [Aaa]'"
      ]
     },
     "execution_count": 135,
     "metadata": {},
     "output_type": "execute_result"
    }
   ],
   "source": [
    "s2.title()"
   ]
  },
  {
   "cell_type": "code",
   "execution_count": 138,
   "id": "eb233334",
   "metadata": {
    "id": "944a422a-eccb-4402-967c-7c197326fd47",
    "outputId": "5e364936-b033-4d7c-c238-556da8332c46"
   },
   "outputs": [
    {
     "data": {
      "text/plain": [
       "['My', 'name', 'is', '[AAA]']"
      ]
     },
     "execution_count": 138,
     "metadata": {},
     "output_type": "execute_result"
    }
   ],
   "source": [
    "s2.split()"
   ]
  },
  {
   "cell_type": "code",
   "execution_count": 146,
   "id": "eeb4aa9a",
   "metadata": {
    "id": "a6d9dcd3-4a61-4de9-a8f4-ebd1ee0a8abd"
   },
   "outputs": [],
   "source": [
    "s3 = \"my name,is,AAA,BBB\""
   ]
  },
  {
   "cell_type": "code",
   "execution_count": 147,
   "id": "c523c949",
   "metadata": {
    "id": "5a5b7c90-eeaf-449b-a2c3-6efd0495b4d3",
    "outputId": "6071a3c3-63aa-4040-8b09-542dd94e97f8"
   },
   "outputs": [
    {
     "data": {
      "text/plain": [
       "['my name,i', ',AAA,BBB']"
      ]
     },
     "execution_count": 147,
     "metadata": {},
     "output_type": "execute_result"
    }
   ],
   "source": [
    "s3.split('s')"
   ]
  },
  {
   "cell_type": "code",
   "execution_count": 148,
   "id": "43164fb1",
   "metadata": {},
   "outputs": [
    {
     "data": {
      "text/plain": [
       "['my name,is,AAA,BBB']"
      ]
     },
     "execution_count": 148,
     "metadata": {},
     "output_type": "execute_result"
    }
   ],
   "source": [
    "s3.split('h')"
   ]
  },
  {
   "cell_type": "code",
   "execution_count": 149,
   "id": "286dbd80",
   "metadata": {
    "id": "04ffb5f4-858d-49e1-9e00-d23d1e8d0c17"
   },
   "outputs": [],
   "source": [
    "s4 = \"this is my fsds pro class . i am attending this class for 4th time\""
   ]
  },
  {
   "cell_type": "code",
   "execution_count": 150,
   "id": "1119c05e",
   "metadata": {
    "id": "8e0847c3-b99f-4e0a-aa27-e9f9b516e7d0",
    "outputId": "df422c92-c80f-4606-f173-c4318c6db1b1"
   },
   "outputs": [
    {
     "data": {
      "text/plain": [
       "'this is my fsds pro class '"
      ]
     },
     "execution_count": 150,
     "metadata": {},
     "output_type": "execute_result"
    }
   ],
   "source": [
    "s4.split('.')[0]"
   ]
  },
  {
   "cell_type": "code",
   "execution_count": 151,
   "id": "fcb3d980",
   "metadata": {
    "id": "68c6c446-46b7-48e8-89e6-1b594da77c61",
    "outputId": "04803904-1ce7-4694-c867-a696a003e7fc"
   },
   "outputs": [
    {
     "data": {
      "text/plain": [
       "' i am attending this class for 4th time'"
      ]
     },
     "execution_count": 151,
     "metadata": {},
     "output_type": "execute_result"
    }
   ],
   "source": [
    "s4.split('.')[1]"
   ]
  },
  {
   "cell_type": "code",
   "execution_count": 152,
   "id": "29a9e862",
   "metadata": {
    "id": "21f10282-9af7-47c6-9683-be2012d2eb75",
    "outputId": "b899d68a-59f9-416f-e224-a45e7de248ed"
   },
   "outputs": [
    {
     "data": {
      "text/plain": [
       "'my name,is,AAA,BBB'"
      ]
     },
     "execution_count": 152,
     "metadata": {},
     "output_type": "execute_result"
    }
   ],
   "source": [
    "s3"
   ]
  },
  {
   "cell_type": "code",
   "execution_count": 153,
   "id": "6bba3ab5",
   "metadata": {
    "id": "a39a5132-9a80-4e43-83c9-c806d96fa34c",
    "outputId": "b1be8269-ea0d-457a-ddf5-07387524552a"
   },
   "outputs": [
    {
     "data": {
      "text/plain": [
       "'My name is [AAA]'"
      ]
     },
     "execution_count": 153,
     "metadata": {},
     "output_type": "execute_result"
    }
   ],
   "source": [
    "s2"
   ]
  },
  {
   "cell_type": "code",
   "execution_count": 154,
   "id": "fb5525ec",
   "metadata": {
    "id": "1a0e7529-7857-4ea7-8313-671cf1b87db6",
    "outputId": "34092565-432a-4184-be25-f81d061b79f6"
   },
   "outputs": [
    {
     "data": {
      "text/plain": [
       "'Pwskills'"
      ]
     },
     "execution_count": 154,
     "metadata": {},
     "output_type": "execute_result"
    }
   ],
   "source": [
    "s1"
   ]
  },
  {
   "cell_type": "code",
   "execution_count": 155,
   "id": "9f98ec24",
   "metadata": {
    "id": "36c43d18-69bc-4b38-b70f-423d990e57f2",
    "outputId": "f25ec5c9-6117-487d-b3ee-9b5a75216144"
   },
   "outputs": [
    {
     "data": {
      "text/plain": [
       "'Pwskills'"
      ]
     },
     "execution_count": 155,
     "metadata": {},
     "output_type": "execute_result"
    }
   ],
   "source": [
    "s1.capitalize()"
   ]
  },
  {
   "cell_type": "code",
   "execution_count": null,
   "id": "bb5a1c35",
   "metadata": {
    "id": "6d6f2f1c-fe0d-433d-8bb5-2b747593524d",
    "outputId": "ce98a95c-1c2c-4430-922b-0bd6b7c17cea"
   },
   "outputs": [
    {
     "data": {
      "text/plain": [
       "'My name is sudhanshu kumar'"
      ]
     },
     "execution_count": 127,
     "metadata": {},
     "output_type": "execute_result"
    }
   ],
   "source": [
    "s2"
   ]
  },
  {
   "cell_type": "code",
   "execution_count": null,
   "id": "40e76271",
   "metadata": {
    "id": "35c8c8e7-384f-480e-96c6-d2ec0859a59f",
    "outputId": "27c598c5-fefd-4cc9-d64f-d381c76bc36a"
   },
   "outputs": [
    {
     "data": {
      "text/plain": [
       "'My name is sudhanshu kumar'"
      ]
     },
     "execution_count": 128,
     "metadata": {},
     "output_type": "execute_result"
    }
   ],
   "source": [
    "s2.capitalize()"
   ]
  },
  {
   "cell_type": "code",
   "execution_count": null,
   "id": "2abc95b6",
   "metadata": {
    "id": "96dfc00e-cf71-41e6-aa66-a0290329a044",
    "outputId": "331e3406-e310-4eab-858b-a0e675f7d325"
   },
   "outputs": [
    {
     "data": {
      "text/plain": [
       "'My Name Is Sudhanshu Kumar'"
      ]
     },
     "execution_count": 129,
     "metadata": {},
     "output_type": "execute_result"
    }
   ],
   "source": [
    "s2.title()"
   ]
  },
  {
   "cell_type": "code",
   "execution_count": null,
   "id": "c0ce1c40",
   "metadata": {
    "id": "95908aa6-325c-42b7-b3bc-ff56b074dba9",
    "outputId": "13298111-24fb-48bc-e803-23f181664e53"
   },
   "outputs": [
    {
     "data": {
      "text/plain": [
       "'My aame is sudhaashu kumar'"
      ]
     },
     "execution_count": 130,
     "metadata": {},
     "output_type": "execute_result"
    }
   ],
   "source": [
    "s2.replace('n','a')"
   ]
  },
  {
   "cell_type": "code",
   "execution_count": null,
   "id": "d885fff7",
   "metadata": {
    "id": "01748fdc-5c6b-42f5-a5e9-d94772237e1a",
    "outputId": "aa90a2c2-f7d2-409b-f890-84031e164bd4"
   },
   "outputs": [
    {
     "data": {
      "text/plain": [
       "'My name is sudhanshu kumar'"
      ]
     },
     "execution_count": 131,
     "metadata": {},
     "output_type": "execute_result"
    }
   ],
   "source": [
    "s2"
   ]
  },
  {
   "cell_type": "code",
   "execution_count": null,
   "id": "0e2f8b63",
   "metadata": {
    "id": "788dae8e-f8a4-47d1-8e4b-747e4acdf671",
    "outputId": "59839a67-1903-4aa9-c7c5-1be3553241b1"
   },
   "outputs": [
    {
     "data": {
      "text/plain": [
       "'Pwskills'"
      ]
     },
     "execution_count": 132,
     "metadata": {},
     "output_type": "execute_result"
    }
   ],
   "source": [
    "s1"
   ]
  },
  {
   "cell_type": "code",
   "execution_count": null,
   "id": "d095ca74",
   "metadata": {
    "id": "538fba73-f514-4184-a78b-caa8ce68c811",
    "outputId": "ed2e6667-b17b-48df-9e8c-5e3bc118e2a8"
   },
   "outputs": [
    {
     "data": {
      "text/plain": [
       "'ffffffffffffffffPwskillsffffffffffffffff'"
      ]
     },
     "execution_count": 133,
     "metadata": {},
     "output_type": "execute_result"
    }
   ],
   "source": [
    "s1.center(40,'f')"
   ]
  },
  {
   "cell_type": "code",
   "execution_count": 158,
   "id": "99230628",
   "metadata": {},
   "outputs": [
    {
     "data": {
      "text/plain": [
       "'Pwskills'"
      ]
     },
     "execution_count": 158,
     "metadata": {},
     "output_type": "execute_result"
    }
   ],
   "source": [
    "s1"
   ]
  },
  {
   "cell_type": "code",
   "execution_count": 159,
   "id": "ee3b7eea",
   "metadata": {
    "id": "d70ce4cf-276d-4109-9771-048896a0a453",
    "outputId": "9f1f8d36-7dcd-4f16-ecef-ba7e7b6a8a06"
   },
   "outputs": [
    {
     "data": {
      "text/plain": [
       "'Pwskills'"
      ]
     },
     "execution_count": 159,
     "metadata": {},
     "output_type": "execute_result"
    }
   ],
   "source": [
    "s1.rstrip()"
   ]
  },
  {
   "cell_type": "code",
   "execution_count": 160,
   "id": "4ae0dbf8",
   "metadata": {
    "id": "1b7a31f1-58e2-4f8e-a902-7bbe44d5fc9e"
   },
   "outputs": [],
   "source": [
    "### FOR ALL THE BELOW LINE PRACTICE AGAIN\n",
    "s5 = \"     pwskills    \""
   ]
  },
  {
   "cell_type": "code",
   "execution_count": 161,
   "id": "ec1a5f5a",
   "metadata": {
    "id": "1426643b-e2a3-48bf-a78e-fbd82336dce0",
    "outputId": "d399e8ec-1d70-4677-feb2-85fb152443da"
   },
   "outputs": [
    {
     "data": {
      "text/plain": [
       "'     pwskills'"
      ]
     },
     "execution_count": 161,
     "metadata": {},
     "output_type": "execute_result"
    }
   ],
   "source": [
    "s5.rstrip()"
   ]
  },
  {
   "cell_type": "code",
   "execution_count": null,
   "id": "5cf41c2e",
   "metadata": {
    "id": "59e0129c-bcd3-4a44-b861-54a8ed63da0c",
    "outputId": "58061441-cafd-40c7-c578-e5386b87181b"
   },
   "outputs": [
    {
     "data": {
      "text/plain": [
       "'pwskills    '"
      ]
     },
     "execution_count": 137,
     "metadata": {},
     "output_type": "execute_result"
    }
   ],
   "source": [
    "s5.lstrip()"
   ]
  },
  {
   "cell_type": "code",
   "execution_count": null,
   "id": "b3a9ff85",
   "metadata": {
    "id": "5aafffda-f535-467f-bd85-03abbab58c8c",
    "outputId": "c050aaea-e1ae-41f3-8f53-c9e8c692ad3a"
   },
   "outputs": [
    {
     "data": {
      "text/plain": [
       "'pwskills'"
      ]
     },
     "execution_count": 138,
     "metadata": {},
     "output_type": "execute_result"
    }
   ],
   "source": [
    "s5.strip()"
   ]
  },
  {
   "cell_type": "code",
   "execution_count": null,
   "id": "e8f0c622",
   "metadata": {
    "id": "24262f9c-ea40-43f1-8671-70bb0ee6a56e",
    "outputId": "599dfe6d-66fb-4ec7-cf5b-5383e1fe004e"
   },
   "outputs": [
    {
     "data": {
      "text/plain": [
       "'My name is sudhanshu kumar'"
      ]
     },
     "execution_count": 139,
     "metadata": {},
     "output_type": "execute_result"
    }
   ],
   "source": [
    "s2"
   ]
  },
  {
   "cell_type": "code",
   "execution_count": null,
   "id": "181e38ce",
   "metadata": {
    "id": "d0084004-8e85-4cf6-8dc2-9168aba44a92",
    "outputId": "f2322f58-0933-4729-e9bc-4edecd9c8201"
   },
   "outputs": [
    {
     "data": {
      "text/plain": [
       "'Pwskills'"
      ]
     },
     "execution_count": 140,
     "metadata": {},
     "output_type": "execute_result"
    }
   ],
   "source": [
    "s1"
   ]
  },
  {
   "cell_type": "code",
   "execution_count": null,
   "id": "fe7a4162",
   "metadata": {
    "id": "fe3c4535-9102-49c6-941e-5991826e595b",
    "outputId": "52a5627b-46d9-49ed-8ee4-10b86aae3b6c"
   },
   "outputs": [
    {
     "data": {
      "text/plain": [
       "True"
      ]
     },
     "execution_count": 141,
     "metadata": {},
     "output_type": "execute_result"
    }
   ],
   "source": [
    "s1.isalnum()"
   ]
  },
  {
   "cell_type": "code",
   "execution_count": null,
   "id": "7a076caf",
   "metadata": {
    "id": "66d5e808-9e11-414c-8bc6-1d01bffc33b6",
    "outputId": "82e2e66c-8acd-490d-f790-a6045685ac06"
   },
   "outputs": [
    {
     "data": {
      "text/plain": [
       "True"
      ]
     },
     "execution_count": 142,
     "metadata": {},
     "output_type": "execute_result"
    }
   ],
   "source": [
    "s1.isalpha()"
   ]
  },
  {
   "cell_type": "code",
   "execution_count": null,
   "id": "269cfe23",
   "metadata": {
    "id": "38b40276-bd19-4215-9ba8-f06613057e58",
    "outputId": "b6d750aa-04f1-460b-d148-a139ef0b2451"
   },
   "outputs": [
    {
     "data": {
      "text/plain": [
       "False"
      ]
     },
     "execution_count": 143,
     "metadata": {},
     "output_type": "execute_result"
    }
   ],
   "source": [
    "s1.isnumeric()"
   ]
  },
  {
   "cell_type": "code",
   "execution_count": null,
   "id": "3bcab725",
   "metadata": {
    "id": "2bdd473f-a8e8-4b90-8947-e730e22411f1",
    "outputId": "fef9648d-8dd6-4415-c4bd-79dddf256121"
   },
   "outputs": [
    {
     "data": {
      "text/plain": [
       "False"
      ]
     },
     "execution_count": 144,
     "metadata": {},
     "output_type": "execute_result"
    }
   ],
   "source": [
    "s1.islower()"
   ]
  },
  {
   "cell_type": "code",
   "execution_count": null,
   "id": "da952cbf",
   "metadata": {
    "id": "bf834a5f-26e3-4dbf-a300-eb52ed48780f",
    "outputId": "8ac1ff72-306b-4811-aac8-260254382313"
   },
   "outputs": [
    {
     "data": {
      "text/plain": [
       "[1, 2, 3, 4, 5, 'sudh', 'kumar', (3+6j), 345.565, True, [3, 4, 5, 6]]"
      ]
     },
     "execution_count": 145,
     "metadata": {},
     "output_type": "execute_result"
    }
   ],
   "source": [
    "l1"
   ]
  },
  {
   "cell_type": "code",
   "execution_count": null,
   "id": "19b0fdd8",
   "metadata": {
    "id": "16af8472-3b55-48bf-a78b-b0cf703b959b",
    "outputId": "32a17bd8-96b4-40f9-d6ed-99dd2ffaf109"
   },
   "outputs": [
    {
     "data": {
      "text/plain": [
       "[300, 4, 5, 'pwskills', 'sudh']"
      ]
     },
     "execution_count": 146,
     "metadata": {},
     "output_type": "execute_result"
    }
   ],
   "source": [
    "l2"
   ]
  },
  {
   "cell_type": "code",
   "execution_count": null,
   "id": "2444c83e",
   "metadata": {
    "id": "2a822c9f-82f2-4c40-bd91-8f3734aa59ec"
   },
   "outputs": [],
   "source": [
    "l1.append(\"sudh\")"
   ]
  },
  {
   "cell_type": "code",
   "execution_count": null,
   "id": "8f2288b9",
   "metadata": {
    "id": "db70434b-824d-4d55-899c-dd65ae880da8",
    "outputId": "869519e8-c2d3-45ff-a6d0-f8b0f08e900b"
   },
   "outputs": [
    {
     "data": {
      "text/plain": [
       "[1, 2, 3, 4, 5, 'sudh', 'kumar', (3+6j), 345.565, True, [3, 4, 5, 6], 'sudh']"
      ]
     },
     "execution_count": 148,
     "metadata": {},
     "output_type": "execute_result"
    }
   ],
   "source": [
    "l1"
   ]
  },
  {
   "cell_type": "code",
   "execution_count": null,
   "id": "df87833d",
   "metadata": {
    "id": "56a98bfb-0d99-4857-bded-6f4a509faefd"
   },
   "outputs": [],
   "source": [
    "l1.insert(3,'pwskills')"
   ]
  },
  {
   "cell_type": "code",
   "execution_count": null,
   "id": "af93d0af",
   "metadata": {
    "id": "9f77f684-5837-4512-bfa4-83a7da8d8661",
    "outputId": "83d22265-9684-49e6-95e0-4f11ad0bfab6"
   },
   "outputs": [
    {
     "data": {
      "text/plain": [
       "[1,\n",
       " 2,\n",
       " 3,\n",
       " 'pwskills',\n",
       " 4,\n",
       " 5,\n",
       " 'sudh',\n",
       " 'kumar',\n",
       " (3+6j),\n",
       " 345.565,\n",
       " True,\n",
       " [3, 4, 5, 6],\n",
       " 'sudh']"
      ]
     },
     "execution_count": 151,
     "metadata": {},
     "output_type": "execute_result"
    }
   ],
   "source": [
    "l1"
   ]
  },
  {
   "cell_type": "code",
   "execution_count": null,
   "id": "7f8c75ef",
   "metadata": {
    "id": "5830c704-d5dc-4082-83a4-bb36500efbe0"
   },
   "outputs": [],
   "source": [
    "l2.extend(\"sudh\")"
   ]
  },
  {
   "cell_type": "code",
   "execution_count": null,
   "id": "0dd42188",
   "metadata": {
    "id": "58b31c63-1c4e-4da5-8c39-74582486198e",
    "outputId": "e70f17e9-7a26-44e9-8aaf-7fa233b316af"
   },
   "outputs": [
    {
     "data": {
      "text/plain": [
       "[300, 4, 5, 'pwskills', 'sudh', 's', 'u', 'd', 'h']"
      ]
     },
     "execution_count": 153,
     "metadata": {},
     "output_type": "execute_result"
    }
   ],
   "source": [
    "l2"
   ]
  },
  {
   "cell_type": "code",
   "execution_count": null,
   "id": "982f94a5",
   "metadata": {
    "id": "9849225e-c1d2-44bc-b689-fba5c6dccbd6"
   },
   "outputs": [],
   "source": [
    "l2.append(\"sudh\")"
   ]
  },
  {
   "cell_type": "code",
   "execution_count": null,
   "id": "c8bd1b30",
   "metadata": {
    "id": "fbc2c042-5131-45a6-9bd1-9ffa79c3fafe",
    "outputId": "4155914d-418a-4995-d480-7cb8ecf19290"
   },
   "outputs": [
    {
     "data": {
      "text/plain": [
       "[300, 4, 5, 'pwskills', 'sudh', 's', 'u', 'd', 'h', 'sudh']"
      ]
     },
     "execution_count": 155,
     "metadata": {},
     "output_type": "execute_result"
    }
   ],
   "source": [
    "l2\n"
   ]
  },
  {
   "cell_type": "code",
   "execution_count": null,
   "id": "1b80017d",
   "metadata": {
    "id": "2e043256-af51-414c-985a-49b33c0dafec"
   },
   "outputs": [],
   "source": [
    "l2.insert(2,\"sudh\")"
   ]
  },
  {
   "cell_type": "code",
   "execution_count": null,
   "id": "12c1dd84",
   "metadata": {
    "id": "d1409115-5876-418a-bc28-8681781103d0",
    "outputId": "c437fd14-9155-4a20-9c1e-0ab131ac5974"
   },
   "outputs": [
    {
     "data": {
      "text/plain": [
       "[300, 4, 'sudh', 5, 'pwskills', 'sudh', 's', 'u', 'd', 'h', 'sudh']"
      ]
     },
     "execution_count": 157,
     "metadata": {},
     "output_type": "execute_result"
    }
   ],
   "source": [
    "l2"
   ]
  },
  {
   "cell_type": "code",
   "execution_count": null,
   "id": "bf142bdf",
   "metadata": {
    "id": "1bad85e6-580b-488f-a573-8699c8458e68"
   },
   "outputs": [],
   "source": [
    "l2.extend('sudh')"
   ]
  },
  {
   "cell_type": "code",
   "execution_count": null,
   "id": "3b34eace",
   "metadata": {
    "id": "8a411071-e6c0-43e9-8638-ed731281ea83",
    "outputId": "00cd3f1c-061c-48ec-9cfc-5f9b080aa86e"
   },
   "outputs": [
    {
     "data": {
      "text/plain": [
       "[300,\n",
       " 4,\n",
       " 'sudh',\n",
       " 5,\n",
       " 'pwskills',\n",
       " 'sudh',\n",
       " 's',\n",
       " 'u',\n",
       " 'd',\n",
       " 'h',\n",
       " 'sudh',\n",
       " 's',\n",
       " 'u',\n",
       " 'd',\n",
       " 'h']"
      ]
     },
     "execution_count": 159,
     "metadata": {},
     "output_type": "execute_result"
    }
   ],
   "source": [
    "l2"
   ]
  },
  {
   "cell_type": "code",
   "execution_count": null,
   "id": "e08e07bf",
   "metadata": {
    "id": "29dbc4b5-b9f9-4b6e-b637-5f69a8398b38"
   },
   "outputs": [],
   "source": [
    "l3 = [1,2,3,4,5]"
   ]
  },
  {
   "cell_type": "code",
   "execution_count": null,
   "id": "4e544768",
   "metadata": {
    "id": "58ed1793-c5cd-4279-99b2-5fdf562ce6e2"
   },
   "outputs": [],
   "source": [
    "l3.append([1,2,3])"
   ]
  },
  {
   "cell_type": "code",
   "execution_count": null,
   "id": "3038ca75",
   "metadata": {
    "id": "ceb16a28-d5ee-4d70-b074-cdf866357afb",
    "outputId": "92c9226f-b1ba-4ef9-bb87-686ae49e7ac1"
   },
   "outputs": [
    {
     "data": {
      "text/plain": [
       "[1, 2, 3, 4, 5, [1, 2, 3]]"
      ]
     },
     "execution_count": 163,
     "metadata": {},
     "output_type": "execute_result"
    }
   ],
   "source": [
    "l3"
   ]
  },
  {
   "cell_type": "code",
   "execution_count": null,
   "id": "0dc17a73",
   "metadata": {
    "id": "4415f7e6-f35f-4b6d-86e5-eb2362c0cfc5"
   },
   "outputs": [],
   "source": [
    "l3.insert(1,[6,7,88])"
   ]
  },
  {
   "cell_type": "code",
   "execution_count": null,
   "id": "42f753f5",
   "metadata": {
    "id": "38259859-4e38-4c9d-a4ee-afe95fbebb0a",
    "outputId": "4688ac0a-163c-4f86-9151-bd9994064365"
   },
   "outputs": [
    {
     "data": {
      "text/plain": [
       "[1, [6, 7, 88], 2, 3, 4, 5, [1, 2, 3]]"
      ]
     },
     "execution_count": 166,
     "metadata": {},
     "output_type": "execute_result"
    }
   ],
   "source": [
    "l3"
   ]
  },
  {
   "cell_type": "code",
   "execution_count": null,
   "id": "89a84f89",
   "metadata": {
    "id": "d6db9fb0-cfaf-489d-844d-911a937ac29f"
   },
   "outputs": [],
   "source": [
    "l3.extend([4,5,6])"
   ]
  },
  {
   "cell_type": "code",
   "execution_count": null,
   "id": "791b1359",
   "metadata": {
    "id": "02ee81a3-f417-4bc7-ab9d-03b5516d9706",
    "outputId": "4b8546d3-9eea-45f4-a391-7fde64cc37dc"
   },
   "outputs": [
    {
     "data": {
      "text/plain": [
       "[1, [6, 7, 88], 2, 3, 4, 5, [1, 2, 3], 4, 5, 6]"
      ]
     },
     "execution_count": 168,
     "metadata": {},
     "output_type": "execute_result"
    }
   ],
   "source": [
    "l3"
   ]
  },
  {
   "cell_type": "code",
   "execution_count": null,
   "id": "4650644f",
   "metadata": {
    "id": "93513512-ff21-45ed-89f2-5b97d0605485",
    "outputId": "39bcc145-c9d5-430b-c76a-48b7fd8a5a28"
   },
   "outputs": [
    {
     "data": {
      "text/plain": [
       "6"
      ]
     },
     "execution_count": 169,
     "metadata": {},
     "output_type": "execute_result"
    }
   ],
   "source": [
    "l3.pop()"
   ]
  },
  {
   "cell_type": "code",
   "execution_count": null,
   "id": "a5ea7299",
   "metadata": {
    "id": "3eda21b5-d94e-4e79-b139-93a6d5777c17",
    "outputId": "8af8a74b-3e1f-434f-d985-c8e3b0b2901f"
   },
   "outputs": [
    {
     "data": {
      "text/plain": [
       "[1, [6, 7, 88], 2, 3, 4, 5, [1, 2, 3], 4, 5]"
      ]
     },
     "execution_count": 170,
     "metadata": {},
     "output_type": "execute_result"
    }
   ],
   "source": [
    "l3"
   ]
  },
  {
   "cell_type": "code",
   "execution_count": null,
   "id": "b4cb936c",
   "metadata": {
    "id": "fd34368b-b2d6-40bb-b9de-cb8c9352d672",
    "outputId": "5156680b-02c2-4291-fac9-98843d0d5e74"
   },
   "outputs": [
    {
     "data": {
      "text/plain": [
       "[6, 7, 88]"
      ]
     },
     "execution_count": 171,
     "metadata": {},
     "output_type": "execute_result"
    }
   ],
   "source": [
    "l3.pop(1)"
   ]
  },
  {
   "cell_type": "code",
   "execution_count": null,
   "id": "b192de29",
   "metadata": {
    "id": "81ce13f4-6844-4fc3-a3f0-fbdaa2dcb14d",
    "outputId": "18912e03-2792-4c73-dc01-33e1f14992ab"
   },
   "outputs": [
    {
     "data": {
      "text/plain": [
       "[1, 2, 3, 4, 5, [1, 2, 3], 4, 5]"
      ]
     },
     "execution_count": 172,
     "metadata": {},
     "output_type": "execute_result"
    }
   ],
   "source": [
    "l3"
   ]
  },
  {
   "cell_type": "code",
   "execution_count": null,
   "id": "660a6b87",
   "metadata": {
    "id": "f1620eed-7768-48a8-9226-2ac61d53f436"
   },
   "outputs": [],
   "source": [
    "del l3"
   ]
  },
  {
   "cell_type": "code",
   "execution_count": null,
   "id": "6f203a96",
   "metadata": {
    "id": "0b504eda-acf3-4944-a959-c128a66b1c80",
    "outputId": "dc1a8956-28cb-4ac8-e486-0904c6ccac7b"
   },
   "outputs": [
    {
     "ename": "NameError",
     "evalue": "name 'l3' is not defined",
     "output_type": "error",
     "traceback": [
      "\u001b[0;31m---------------------------------------------------------------------------\u001b[0m",
      "\u001b[0;31mNameError\u001b[0m                                 Traceback (most recent call last)",
      "Cell \u001b[0;32mIn[174], line 1\u001b[0m\n\u001b[0;32m----> 1\u001b[0m \u001b[43ml3\u001b[49m\n",
      "\u001b[0;31mNameError\u001b[0m: name 'l3' is not defined"
     ]
    }
   ],
   "source": [
    "l3"
   ]
  },
  {
   "cell_type": "code",
   "execution_count": null,
   "id": "c7482422",
   "metadata": {
    "id": "5e56f469-680a-4aea-b92f-2da672a715b7",
    "outputId": "12681236-b85b-4655-86c6-c4e441841362"
   },
   "outputs": [
    {
     "data": {
      "text/plain": [
       "'My name is sudhanshu kumar'"
      ]
     },
     "execution_count": 175,
     "metadata": {},
     "output_type": "execute_result"
    }
   ],
   "source": [
    "s2"
   ]
  },
  {
   "cell_type": "code",
   "execution_count": null,
   "id": "345c7fb4",
   "metadata": {
    "id": "694cb485-7fe3-4bb6-8d47-fe0a14e5a061"
   },
   "outputs": [],
   "source": [
    "del s2"
   ]
  },
  {
   "cell_type": "code",
   "execution_count": null,
   "id": "64573ec9",
   "metadata": {
    "id": "45ba7cad-02b3-444b-990b-ca55cfa559b3",
    "outputId": "b89917f4-3486-426d-c304-929c39267552"
   },
   "outputs": [
    {
     "ename": "NameError",
     "evalue": "name 's2' is not defined",
     "output_type": "error",
     "traceback": [
      "\u001b[0;31m---------------------------------------------------------------------------\u001b[0m",
      "\u001b[0;31mNameError\u001b[0m                                 Traceback (most recent call last)",
      "Cell \u001b[0;32mIn[177], line 1\u001b[0m\n\u001b[0;32m----> 1\u001b[0m \u001b[43ms2\u001b[49m\n",
      "\u001b[0;31mNameError\u001b[0m: name 's2' is not defined"
     ]
    }
   ],
   "source": [
    "s2"
   ]
  },
  {
   "cell_type": "code",
   "execution_count": null,
   "id": "5b0f2fbc",
   "metadata": {
    "id": "64a03166-07f7-4210-b59b-a5a029281bf9",
    "outputId": "0b6879a5-744c-47a6-c4c2-b33d76204a3c"
   },
   "outputs": [
    {
     "ename": "ValueError",
     "evalue": "list.remove(x): x not in list",
     "output_type": "error",
     "traceback": [
      "\u001b[0;31m---------------------------------------------------------------------------\u001b[0m",
      "\u001b[0;31mValueError\u001b[0m                                Traceback (most recent call last)",
      "Cell \u001b[0;32mIn[181], line 1\u001b[0m\n\u001b[0;32m----> 1\u001b[0m \u001b[43ml2\u001b[49m\u001b[38;5;241;43m.\u001b[39;49m\u001b[43mremove\u001b[49m\u001b[43m(\u001b[49m\u001b[38;5;124;43m'\u001b[39;49m\u001b[38;5;124;43mz\u001b[39;49m\u001b[38;5;124;43m'\u001b[39;49m\u001b[43m)\u001b[49m\n",
      "\u001b[0;31mValueError\u001b[0m: list.remove(x): x not in list"
     ]
    }
   ],
   "source": [
    "l2.remove('z')"
   ]
  },
  {
   "cell_type": "code",
   "execution_count": null,
   "id": "f2e8048a",
   "metadata": {
    "id": "003a2242-a7f4-4988-b3e6-1d0bb7e9a4d1",
    "outputId": "c464ab14-d0dd-4268-cd17-044ce8791ede"
   },
   "outputs": [
    {
     "data": {
      "text/plain": [
       "[300,\n",
       " 4,\n",
       " 'sudh',\n",
       " 5,\n",
       " 'pwskills',\n",
       " 'sudh',\n",
       " 'u',\n",
       " 'd',\n",
       " 'h',\n",
       " 'sudh',\n",
       " 's',\n",
       " 'u',\n",
       " 'd',\n",
       " 'h']"
      ]
     },
     "execution_count": 180,
     "metadata": {},
     "output_type": "execute_result"
    }
   ],
   "source": [
    "l2"
   ]
  },
  {
   "cell_type": "code",
   "execution_count": null,
   "id": "c5131491",
   "metadata": {
    "id": "05f0c0d6-8f52-4e20-a5f1-00180f5d34c1",
    "outputId": "d9baa6d5-e538-40b2-edb1-f04da89b2cfc"
   },
   "outputs": [
    {
     "ename": "IndexError",
     "evalue": "pop index out of range",
     "output_type": "error",
     "traceback": [
      "\u001b[0;31m---------------------------------------------------------------------------\u001b[0m",
      "\u001b[0;31mIndexError\u001b[0m                                Traceback (most recent call last)",
      "Cell \u001b[0;32mIn[182], line 1\u001b[0m\n\u001b[0;32m----> 1\u001b[0m \u001b[43ml2\u001b[49m\u001b[38;5;241;43m.\u001b[39;49m\u001b[43mpop\u001b[49m\u001b[43m(\u001b[49m\u001b[38;5;241;43m1000\u001b[39;49m\u001b[43m)\u001b[49m\n",
      "\u001b[0;31mIndexError\u001b[0m: pop index out of range"
     ]
    }
   ],
   "source": [
    "l2.pop(1000)"
   ]
  },
  {
   "cell_type": "code",
   "execution_count": null,
   "id": "355468bd",
   "metadata": {
    "id": "2edd14e4-58e9-4ba0-9a6a-afbc070c4406",
    "outputId": "40d95d73-e0af-416a-c18c-739791601bbf"
   },
   "outputs": [
    {
     "data": {
      "text/plain": [
       "[1,\n",
       " 2,\n",
       " 3,\n",
       " 'pwskills',\n",
       " 4,\n",
       " 5,\n",
       " 'sudh',\n",
       " 'kumar',\n",
       " (3+6j),\n",
       " 345.565,\n",
       " True,\n",
       " [3, 4, 5, 6],\n",
       " 'sudh']"
      ]
     },
     "execution_count": 183,
     "metadata": {},
     "output_type": "execute_result"
    }
   ],
   "source": [
    "l1"
   ]
  },
  {
   "cell_type": "code",
   "execution_count": null,
   "id": "81a1de93",
   "metadata": {
    "id": "114c7d71-4fb8-4381-a884-c53f918ce234"
   },
   "outputs": [],
   "source": [
    "l1.clear()"
   ]
  },
  {
   "cell_type": "code",
   "execution_count": null,
   "id": "fbcd6bd7",
   "metadata": {
    "id": "a7883002-4d2a-4f71-be92-dc8c64674e8f",
    "outputId": "d37504ed-b1d0-466b-8696-f1702f77bdf4"
   },
   "outputs": [
    {
     "data": {
      "text/plain": [
       "[]"
      ]
     },
     "execution_count": 185,
     "metadata": {},
     "output_type": "execute_result"
    }
   ],
   "source": [
    "l1"
   ]
  },
  {
   "cell_type": "code",
   "execution_count": null,
   "id": "990ff956",
   "metadata": {
    "id": "b2df048d-b982-4c0f-9143-3ca271a86302",
    "outputId": "fc847e04-ed30-4dd6-cc60-b41dc2ffdec7"
   },
   "outputs": [
    {
     "data": {
      "text/plain": [
       "1"
      ]
     },
     "execution_count": 187,
     "metadata": {},
     "output_type": "execute_result"
    }
   ],
   "source": [
    "l2.count('s')"
   ]
  },
  {
   "cell_type": "code",
   "execution_count": null,
   "id": "21974240",
   "metadata": {
    "id": "d3cecacb-cce9-479c-8109-d549e768fbbb",
    "outputId": "84c7309b-f453-45e7-e530-1017b83223bd"
   },
   "outputs": [
    {
     "data": {
      "text/plain": [
       "10"
      ]
     },
     "execution_count": 189,
     "metadata": {},
     "output_type": "execute_result"
    }
   ],
   "source": [
    "l2.index('s')"
   ]
  },
  {
   "cell_type": "code",
   "execution_count": null,
   "id": "427f5847",
   "metadata": {
    "id": "f7b156fd-66fa-4ba4-b86d-80d96bffebff",
    "outputId": "63f1f7e3-b4aa-420d-9e51-9c0230817565"
   },
   "outputs": [
    {
     "data": {
      "text/plain": [
       "[300,\n",
       " 4,\n",
       " 'sudh',\n",
       " 5,\n",
       " 'pwskills',\n",
       " 'sudh',\n",
       " 'u',\n",
       " 'd',\n",
       " 'h',\n",
       " 'sudh',\n",
       " 's',\n",
       " 'u',\n",
       " 'd',\n",
       " 'h']"
      ]
     },
     "execution_count": 190,
     "metadata": {},
     "output_type": "execute_result"
    }
   ],
   "source": [
    "l2"
   ]
  },
  {
   "cell_type": "code",
   "execution_count": null,
   "id": "c88283e0",
   "metadata": {
    "id": "93e65b09-5986-4f6e-a28c-a15c095337f7"
   },
   "outputs": [],
   "source": [
    "l2.reverse()"
   ]
  },
  {
   "cell_type": "code",
   "execution_count": null,
   "id": "6ec0288b",
   "metadata": {
    "id": "945731eb-3c7f-4f86-a58a-4800dd90598c",
    "outputId": "ee0a1dc6-7de8-47c2-8b65-fe0d0f4a802d"
   },
   "outputs": [
    {
     "data": {
      "text/plain": [
       "['h',\n",
       " 'd',\n",
       " 'u',\n",
       " 's',\n",
       " 'sudh',\n",
       " 'h',\n",
       " 'd',\n",
       " 'u',\n",
       " 'sudh',\n",
       " 'pwskills',\n",
       " 5,\n",
       " 'sudh',\n",
       " 4,\n",
       " 300]"
      ]
     },
     "execution_count": 192,
     "metadata": {},
     "output_type": "execute_result"
    }
   ],
   "source": [
    "l2"
   ]
  },
  {
   "cell_type": "code",
   "execution_count": null,
   "id": "ed2e7ddb",
   "metadata": {
    "id": "4961b8ae-aa3b-4b39-95bc-f458b8b4aa7d",
    "outputId": "0845f837-e49a-40dc-f3cc-40675b60ff05"
   },
   "outputs": [
    {
     "ename": "TypeError",
     "evalue": "'<' not supported between instances of 'int' and 'str'",
     "output_type": "error",
     "traceback": [
      "\u001b[0;31m---------------------------------------------------------------------------\u001b[0m",
      "\u001b[0;31mTypeError\u001b[0m                                 Traceback (most recent call last)",
      "Cell \u001b[0;32mIn[193], line 1\u001b[0m\n\u001b[0;32m----> 1\u001b[0m \u001b[43ml2\u001b[49m\u001b[38;5;241;43m.\u001b[39;49m\u001b[43msort\u001b[49m\u001b[43m(\u001b[49m\u001b[43m)\u001b[49m\n",
      "\u001b[0;31mTypeError\u001b[0m: '<' not supported between instances of 'int' and 'str'"
     ]
    }
   ],
   "source": [
    "l2.sort()"
   ]
  },
  {
   "cell_type": "code",
   "execution_count": null,
   "id": "3e806303",
   "metadata": {
    "id": "2206f369-06fd-4e3b-a115-9dcc09c5cb7d",
    "outputId": "eae570f8-a137-4874-da3c-620314843a80"
   },
   "outputs": [
    {
     "data": {
      "text/plain": [
       "['d',\n",
       " 'd',\n",
       " 'h',\n",
       " 'h',\n",
       " 'pwskills',\n",
       " 's',\n",
       " 'sudh',\n",
       " 'sudh',\n",
       " 'u',\n",
       " 'u',\n",
       " 5,\n",
       " 'sudh',\n",
       " 4,\n",
       " 300]"
      ]
     },
     "execution_count": 196,
     "metadata": {},
     "output_type": "execute_result"
    }
   ],
   "source": [
    "l2"
   ]
  },
  {
   "cell_type": "code",
   "execution_count": null,
   "id": "aa931c65",
   "metadata": {
    "id": "4a0d5a7f-8853-4b6d-bcd6-f8d59bac8123"
   },
   "outputs": [],
   "source": [
    "l3 = [3,2,5,7,3,4,5,6]\n",
    "l5 = list(set(l3)).sort()"
   ]
  },
  {
   "cell_type": "code",
   "execution_count": null,
   "id": "cf6561ef",
   "metadata": {
    "id": "9d758539-1b48-4b91-b596-4f2e2e133466"
   },
   "outputs": [],
   "source": [
    "l3.sort()"
   ]
  },
  {
   "cell_type": "code",
   "execution_count": null,
   "id": "86406567",
   "metadata": {
    "id": "7f1e4a89-98d2-4396-9c10-a224c303a023",
    "outputId": "5fbc01a9-60c4-430d-da62-ea2dcfb8fd8d"
   },
   "outputs": [
    {
     "data": {
      "text/plain": [
       "[2, 3, 3, 4, 5, 5, 6, 7]"
      ]
     },
     "execution_count": 202,
     "metadata": {},
     "output_type": "execute_result"
    }
   ],
   "source": [
    "l3"
   ]
  },
  {
   "cell_type": "code",
   "execution_count": null,
   "id": "97c89ae0",
   "metadata": {
    "id": "9320c85d-ffbe-455d-9342-ead796f49e9f"
   },
   "outputs": [],
   "source": [
    "l4 = [\"sudh\", \"kumar\",\"abcd\"]"
   ]
  },
  {
   "cell_type": "code",
   "execution_count": null,
   "id": "f986906e",
   "metadata": {
    "id": "83ab5d17-77f3-4ddc-8c2f-b1bc49f2c49e"
   },
   "outputs": [],
   "source": [
    "l4.sort(reverse=True)"
   ]
  },
  {
   "cell_type": "code",
   "execution_count": null,
   "id": "beda4dee",
   "metadata": {
    "id": "4f158900-dcf0-4b4c-b90d-e2a6720eb0a1",
    "outputId": "1ea58ac9-2992-4c4e-83ca-7608759d862d"
   },
   "outputs": [
    {
     "data": {
      "text/plain": [
       "['sudh', 'kumar', 'abcd']"
      ]
     },
     "execution_count": 207,
     "metadata": {},
     "output_type": "execute_result"
    }
   ],
   "source": [
    "l4"
   ]
  },
  {
   "cell_type": "code",
   "execution_count": null,
   "id": "6eb6f409",
   "metadata": {
    "id": "73968aeb-ba60-4c68-8544-afc891ff2a6c"
   },
   "outputs": [],
   "source": [
    "list(set(l3)).sort()"
   ]
  },
  {
   "cell_type": "code",
   "execution_count": null,
   "id": "9e928533",
   "metadata": {
    "id": "6b485ed0-3254-44dc-b014-c0fffd85c403",
    "outputId": "6d0d68cf-a74f-4317-da2b-e7ed10aee566"
   },
   "outputs": [
    {
     "data": {
      "text/plain": [
       "[3, 2, 5, 7, 3, 4, 5, 6]"
      ]
     },
     "execution_count": 218,
     "metadata": {},
     "output_type": "execute_result"
    }
   ],
   "source": [
    "l3"
   ]
  },
  {
   "cell_type": "code",
   "execution_count": null,
   "id": "47ecde11",
   "metadata": {
    "id": "a2d56196-bb5d-4823-953b-9b6aa97beb9f"
   },
   "outputs": [],
   "source": [
    "l4 = set(l3)"
   ]
  },
  {
   "cell_type": "code",
   "execution_count": null,
   "id": "42708329",
   "metadata": {
    "id": "9ec1ec92-41aa-4f0e-a6bd-d8552b397d54"
   },
   "outputs": [],
   "source": [
    "l6 = list(l4)"
   ]
  },
  {
   "cell_type": "code",
   "execution_count": null,
   "id": "41ee7378",
   "metadata": {
    "id": "0e6ebec1-4e0d-4630-a7fe-6d29ee722fc2"
   },
   "outputs": [],
   "source": [
    "l6.sort()"
   ]
  },
  {
   "cell_type": "code",
   "execution_count": null,
   "id": "022c2e9b",
   "metadata": {
    "id": "3075e52a-ecfa-4350-a876-05225a949315",
    "outputId": "a682f82d-cd7a-4fc5-c118-c955171583f5"
   },
   "outputs": [
    {
     "data": {
      "text/plain": [
       "[2, 3, 4, 5, 6, 7]"
      ]
     },
     "execution_count": 233,
     "metadata": {},
     "output_type": "execute_result"
    }
   ],
   "source": [
    "l6"
   ]
  },
  {
   "cell_type": "code",
   "execution_count": null,
   "id": "7e16174a",
   "metadata": {
    "id": "2dbba06d-1bb3-4539-b863-636676f35673"
   },
   "outputs": [],
   "source": [
    "l0 = [2,3,4,5]"
   ]
  },
  {
   "cell_type": "code",
   "execution_count": null,
   "id": "6ce4e42b",
   "metadata": {
    "id": "e2bd3e32-3294-4028-9962-ffb859887522"
   },
   "outputs": [],
   "source": [
    "l1 = l0"
   ]
  },
  {
   "cell_type": "code",
   "execution_count": null,
   "id": "2f533bf2",
   "metadata": {
    "id": "41276ae8-f3ff-4ef5-be67-5625328f6137",
    "outputId": "1ab70763-15c2-4ce9-da7d-abaf60bdce06"
   },
   "outputs": [
    {
     "data": {
      "text/plain": [
       "[2, 3, 4, 5]"
      ]
     },
     "execution_count": 236,
     "metadata": {},
     "output_type": "execute_result"
    }
   ],
   "source": [
    "l1"
   ]
  },
  {
   "cell_type": "code",
   "execution_count": null,
   "id": "ff30b9ee",
   "metadata": {
    "id": "bc6ac89d-1808-4ff5-9628-5032cc596f18",
    "outputId": "2c906947-ab8b-44cc-d58a-6953d2ce3411"
   },
   "outputs": [
    {
     "data": {
      "text/plain": [
       "[2, 3, 4, 5]"
      ]
     },
     "execution_count": 237,
     "metadata": {},
     "output_type": "execute_result"
    }
   ],
   "source": [
    "l0"
   ]
  },
  {
   "cell_type": "code",
   "execution_count": null,
   "id": "cbf22388",
   "metadata": {
    "id": "ba5189ee-1c16-4f2a-a2d9-3ced4875ff2d"
   },
   "outputs": [],
   "source": [
    "l0[0] = 200"
   ]
  },
  {
   "cell_type": "code",
   "execution_count": null,
   "id": "c049b75f",
   "metadata": {
    "id": "18ab1b64-b72b-46a0-989c-bbc97765f338",
    "outputId": "67413a7b-b651-4ba3-8d1f-6d9bcdd31358"
   },
   "outputs": [
    {
     "data": {
      "text/plain": [
       "[200, 3, 4, 5]"
      ]
     },
     "execution_count": 240,
     "metadata": {},
     "output_type": "execute_result"
    }
   ],
   "source": [
    "l1"
   ]
  },
  {
   "cell_type": "code",
   "execution_count": null,
   "id": "5a5cfd16",
   "metadata": {
    "id": "365966bd-8787-434c-8cc8-946f5ffe752e"
   },
   "outputs": [],
   "source": [
    "l2 = l0.copy()"
   ]
  },
  {
   "cell_type": "code",
   "execution_count": null,
   "id": "bf4f5a3a",
   "metadata": {
    "id": "fc6c0c59-ac7e-4000-8c6a-26c8ea5a1ab3",
    "outputId": "f4eca7dd-38b0-4af1-e56d-743653905464"
   },
   "outputs": [
    {
     "data": {
      "text/plain": [
       "[200, 3, 4, 5]"
      ]
     },
     "execution_count": 242,
     "metadata": {},
     "output_type": "execute_result"
    }
   ],
   "source": [
    "l2"
   ]
  },
  {
   "cell_type": "code",
   "execution_count": null,
   "id": "31a684ba",
   "metadata": {
    "id": "bc4a45e1-a06a-4ad4-995b-1d65114f2234",
    "outputId": "9eaf0ac2-4d87-495f-f414-c135fbdf11b0"
   },
   "outputs": [
    {
     "data": {
      "text/plain": [
       "[200, 3, 4, 5]"
      ]
     },
     "execution_count": 243,
     "metadata": {},
     "output_type": "execute_result"
    }
   ],
   "source": [
    "l1"
   ]
  },
  {
   "cell_type": "code",
   "execution_count": null,
   "id": "e015d27e",
   "metadata": {
    "id": "60042f73-bb5b-42de-9311-35167f966b26",
    "outputId": "88f43c89-7590-4abf-9a71-28d4d513121a"
   },
   "outputs": [
    {
     "data": {
      "text/plain": [
       "[200, 3, 4, 5]"
      ]
     },
     "execution_count": 244,
     "metadata": {},
     "output_type": "execute_result"
    }
   ],
   "source": [
    "l0"
   ]
  },
  {
   "cell_type": "code",
   "execution_count": null,
   "id": "d70523af",
   "metadata": {
    "id": "248597fb-c8e0-43f0-9db7-357fcfde6eaa"
   },
   "outputs": [],
   "source": [
    "l0[1] = 300"
   ]
  },
  {
   "cell_type": "code",
   "execution_count": null,
   "id": "90f132ca",
   "metadata": {
    "id": "50321b2f-4e6c-46c6-bc93-38cf62ddf0a9",
    "outputId": "912c3781-15bc-4cdb-d31e-d92a827ec0fd"
   },
   "outputs": [
    {
     "data": {
      "text/plain": [
       "[200, 300, 4, 5]"
      ]
     },
     "execution_count": 247,
     "metadata": {},
     "output_type": "execute_result"
    }
   ],
   "source": [
    "l0"
   ]
  },
  {
   "cell_type": "code",
   "execution_count": null,
   "id": "f8b60c31",
   "metadata": {
    "id": "93793e58-afdc-46f4-865f-31e2410219f0",
    "outputId": "5fb5b2a5-5c1a-44f1-c2ad-668d64d23c03"
   },
   "outputs": [
    {
     "data": {
      "text/plain": [
       "[200, 300, 4, 5]"
      ]
     },
     "execution_count": 248,
     "metadata": {},
     "output_type": "execute_result"
    }
   ],
   "source": [
    "l1"
   ]
  },
  {
   "cell_type": "code",
   "execution_count": null,
   "id": "5c8c935a",
   "metadata": {
    "id": "30ee18bb-719f-4eb4-a246-4e45fec038e8",
    "outputId": "9469a363-1764-422c-b605-2f927a1f6306"
   },
   "outputs": [
    {
     "data": {
      "text/plain": [
       "[200, 3, 4, 5]"
      ]
     },
     "execution_count": 249,
     "metadata": {},
     "output_type": "execute_result"
    }
   ],
   "source": [
    "l2"
   ]
  },
  {
   "cell_type": "code",
   "execution_count": null,
   "id": "5d7a6036",
   "metadata": {
    "id": "4b80d358-90ba-4e97-8580-adc9a0752456",
    "outputId": "e192590d-b897-4b33-8142-dc72dc1b1ea9"
   },
   "outputs": [
    {
     "data": {
      "text/plain": [
       "(1, 2, 3, 4, 'sudh', 'pwksills', (4+56j), True)"
      ]
     },
     "execution_count": 250,
     "metadata": {},
     "output_type": "execute_result"
    }
   ],
   "source": [
    "t"
   ]
  },
  {
   "cell_type": "code",
   "execution_count": null,
   "id": "2a2cc929",
   "metadata": {
    "id": "0f7dec58-58a2-4702-9e05-7094c4038e12",
    "outputId": "7d485645-c7fe-4bad-b2fa-959a14242409"
   },
   "outputs": [
    {
     "data": {
      "text/plain": [
       "1"
      ]
     },
     "execution_count": 251,
     "metadata": {},
     "output_type": "execute_result"
    }
   ],
   "source": [
    "t.count(4)"
   ]
  },
  {
   "cell_type": "code",
   "execution_count": null,
   "id": "5bf46ad2",
   "metadata": {
    "id": "f01dd675-8b06-4eb4-8506-103bc9798f71",
    "outputId": "5388b5aa-6560-44be-e74e-f3314fbcff4d"
   },
   "outputs": [
    {
     "data": {
      "text/plain": [
       "4"
      ]
     },
     "execution_count": 252,
     "metadata": {},
     "output_type": "execute_result"
    }
   ],
   "source": [
    "t.index('sudh')"
   ]
  },
  {
   "cell_type": "code",
   "execution_count": null,
   "id": "bd88ab0b",
   "metadata": {
    "id": "612aaa5c-378b-458f-a1cd-960f17179980",
    "outputId": "443f259e-51c1-4d3b-ff47-410c673851df"
   },
   "outputs": [
    {
     "data": {
      "text/plain": [
       "'Pwskills'"
      ]
     },
     "execution_count": 253,
     "metadata": {},
     "output_type": "execute_result"
    }
   ],
   "source": [
    "s1"
   ]
  },
  {
   "cell_type": "code",
   "execution_count": null,
   "id": "113b0569",
   "metadata": {
    "id": "c04bcceb-44c6-4267-baca-b78e2bee1583",
    "outputId": "8796c306-ff1a-4955-9924-442e03bc0fef"
   },
   "outputs": [
    {
     "data": {
      "text/plain": [
       "{}"
      ]
     },
     "execution_count": 254,
     "metadata": {},
     "output_type": "execute_result"
    }
   ],
   "source": [
    "s"
   ]
  },
  {
   "cell_type": "code",
   "execution_count": null,
   "id": "c4596b68",
   "metadata": {
    "id": "e2abfe20-ff95-4afd-b290-0dd69622f4e8"
   },
   "outputs": [],
   "source": [
    "s={3,4,54,6,6,43,3,3,3,5,5,6}"
   ]
  },
  {
   "cell_type": "code",
   "execution_count": null,
   "id": "16756d3e",
   "metadata": {
    "id": "84f9f43f-816b-4923-9003-f4df3912da2d",
    "outputId": "bc9a7c4e-35ae-4966-8be3-d949a6335021"
   },
   "outputs": [
    {
     "data": {
      "text/plain": [
       "set"
      ]
     },
     "execution_count": 256,
     "metadata": {},
     "output_type": "execute_result"
    }
   ],
   "source": [
    "type(s)"
   ]
  },
  {
   "cell_type": "code",
   "execution_count": null,
   "id": "32166014",
   "metadata": {
    "id": "dca4da54-34c3-4e41-bc24-2012739a64f3"
   },
   "outputs": [],
   "source": [
    "s.add(234)"
   ]
  },
  {
   "cell_type": "code",
   "execution_count": null,
   "id": "8db5fa75",
   "metadata": {
    "id": "18ac403c-a0eb-4022-9d80-8458cdb834a9",
    "outputId": "059ad229-0642-4097-ed53-e3689f7ed227"
   },
   "outputs": [
    {
     "data": {
      "text/plain": [
       "{3, 4, 5, 6, 43, 54, 234}"
      ]
     },
     "execution_count": 258,
     "metadata": {},
     "output_type": "execute_result"
    }
   ],
   "source": [
    "s"
   ]
  },
  {
   "cell_type": "code",
   "execution_count": null,
   "id": "69545e6f",
   "metadata": {
    "id": "0656a088-722c-42e2-8523-0cedb1b83a86"
   },
   "outputs": [],
   "source": [
    "s.add(4)"
   ]
  },
  {
   "cell_type": "code",
   "execution_count": null,
   "id": "7a04a692",
   "metadata": {
    "id": "a0a6143f-6edf-4d4b-8ca0-6a5e575c78ae"
   },
   "outputs": [],
   "source": [
    "s.discard(3)"
   ]
  },
  {
   "cell_type": "code",
   "execution_count": null,
   "id": "1db2af1c",
   "metadata": {
    "id": "b0f6fdd0-0b64-4029-8e4e-4c0d57cb1c75",
    "outputId": "e217aac0-69bc-4798-f7e2-7cd8b1f6be5d"
   },
   "outputs": [
    {
     "data": {
      "text/plain": [
       "{4, 5, 6, 43, 54, 234}"
      ]
     },
     "execution_count": 261,
     "metadata": {},
     "output_type": "execute_result"
    }
   ],
   "source": [
    "s"
   ]
  },
  {
   "cell_type": "code",
   "execution_count": null,
   "id": "7395a138",
   "metadata": {
    "id": "958222e7-2099-4540-8d2f-fed31547da57",
    "outputId": "9b897709-da0f-4934-ce4c-51f3530b48cc"
   },
   "outputs": [
    {
     "data": {
      "text/plain": [
       "4"
      ]
     },
     "execution_count": 262,
     "metadata": {},
     "output_type": "execute_result"
    }
   ],
   "source": [
    "s.pop()"
   ]
  },
  {
   "cell_type": "code",
   "execution_count": null,
   "id": "e71dbcb1",
   "metadata": {
    "id": "ec249ca6-2793-4406-b933-81eb29e229c3",
    "outputId": "f9b65736-a44b-46b1-aa3c-24044101c858"
   },
   "outputs": [
    {
     "data": {
      "text/plain": [
       "5"
      ]
     },
     "execution_count": 263,
     "metadata": {},
     "output_type": "execute_result"
    }
   ],
   "source": [
    "s.pop()"
   ]
  },
  {
   "cell_type": "code",
   "execution_count": null,
   "id": "2639c35d",
   "metadata": {
    "id": "a61c4e64-7867-4169-b282-3fc2f96b5999",
    "outputId": "3870fa52-db28-4968-b744-95e6b8717660"
   },
   "outputs": [
    {
     "data": {
      "text/plain": [
       "6"
      ]
     },
     "execution_count": 264,
     "metadata": {},
     "output_type": "execute_result"
    }
   ],
   "source": [
    "s.pop()"
   ]
  },
  {
   "cell_type": "code",
   "execution_count": null,
   "id": "4111c018",
   "metadata": {
    "id": "66649867-49f9-4463-b074-bbb35bf315b3"
   },
   "outputs": [],
   "source": [
    "s.remove(43)"
   ]
  },
  {
   "cell_type": "code",
   "execution_count": null,
   "id": "9e12becf",
   "metadata": {
    "id": "7138fc21-668b-4865-a899-3ad9566a4d92",
    "outputId": "2825db00-cb6f-4c19-aae9-ce75145f9240"
   },
   "outputs": [
    {
     "data": {
      "text/plain": [
       "{54, 234}"
      ]
     },
     "execution_count": 267,
     "metadata": {},
     "output_type": "execute_result"
    }
   ],
   "source": [
    "s"
   ]
  },
  {
   "cell_type": "code",
   "execution_count": null,
   "id": "fbc49951",
   "metadata": {
    "id": "257f1f6e-a805-473e-8df2-a90db87f8492",
    "outputId": "98cc1b16-ab8f-41c4-fcd1-a414e247b5b0"
   },
   "outputs": [
    {
     "data": {
      "text/plain": [
       "{}"
      ]
     },
     "execution_count": 268,
     "metadata": {},
     "output_type": "execute_result"
    }
   ],
   "source": [
    "d"
   ]
  },
  {
   "cell_type": "code",
   "execution_count": null,
   "id": "b5121ea5",
   "metadata": {
    "id": "dcf55d87-11d7-4e2e-88b0-84626bed8c9e",
    "outputId": "e7170a08-4c34-45cb-9f33-ac7c1c7a4bbc"
   },
   "outputs": [
    {
     "data": {
      "text/plain": [
       "{'name': 'sudhanshu',\n",
       " 'subject': ['data science ', 'big data ', 'data analytics'],\n",
       " 'number': 43242424}"
      ]
     },
     "execution_count": 269,
     "metadata": {},
     "output_type": "execute_result"
    }
   ],
   "source": [
    "d1"
   ]
  },
  {
   "cell_type": "code",
   "execution_count": null,
   "id": "cabe6f2d",
   "metadata": {
    "id": "1bf018c2-17dc-4606-9f1b-f66ae7af2310",
    "outputId": "33dd89bf-72e5-475f-d760-0bf6098d5d01"
   },
   "outputs": [
    {
     "data": {
      "text/plain": [
       "['name', 'subject', 'number']"
      ]
     },
     "execution_count": 271,
     "metadata": {},
     "output_type": "execute_result"
    }
   ],
   "source": [
    "list(d1.keys())"
   ]
  },
  {
   "cell_type": "code",
   "execution_count": null,
   "id": "6bdc491f",
   "metadata": {
    "id": "16765e8e-edb4-455a-a946-d78ccfb76112",
    "outputId": "064ff97e-f96f-4a99-cbb6-d4a36c267b01"
   },
   "outputs": [
    {
     "data": {
      "text/plain": [
       "['sudhanshu', ['data science ', 'big data ', 'data analytics'], 43242424]"
      ]
     },
     "execution_count": 273,
     "metadata": {},
     "output_type": "execute_result"
    }
   ],
   "source": [
    "list(d1.values())"
   ]
  },
  {
   "cell_type": "code",
   "execution_count": null,
   "id": "1c884a5b",
   "metadata": {
    "id": "f4511bbf-36d1-447e-b1bb-c14e190ae37c",
    "outputId": "76f39113-9d1a-4cef-b64f-911478d102c2"
   },
   "outputs": [
    {
     "data": {
      "text/plain": [
       "[('name', 'sudhanshu'),\n",
       " ('subject', ['data science ', 'big data ', 'data analytics']),\n",
       " ('number', 43242424)]"
      ]
     },
     "execution_count": 275,
     "metadata": {},
     "output_type": "execute_result"
    }
   ],
   "source": [
    "list(d1.items())"
   ]
  },
  {
   "cell_type": "code",
   "execution_count": null,
   "id": "c493a7c6",
   "metadata": {
    "id": "ff22db0c-e2ec-4a21-80a2-a2aa4e9352f2",
    "outputId": "e8af417e-b9b1-4095-d9d0-56cf223123bd"
   },
   "outputs": [
    {
     "data": {
      "text/plain": [
       "'sudhanshu'"
      ]
     },
     "execution_count": 276,
     "metadata": {},
     "output_type": "execute_result"
    }
   ],
   "source": [
    "d1.get('name')"
   ]
  },
  {
   "cell_type": "code",
   "execution_count": null,
   "id": "b85013b3",
   "metadata": {
    "id": "c6e6959c-91e5-46e5-9b07-4d9e7b0fdc6b",
    "outputId": "0583a5b7-701d-4571-b225-0c36a130b1e2"
   },
   "outputs": [
    {
     "data": {
      "text/plain": [
       "'sudhanshu'"
      ]
     },
     "execution_count": 277,
     "metadata": {},
     "output_type": "execute_result"
    }
   ],
   "source": [
    "d1['name']"
   ]
  },
  {
   "cell_type": "code",
   "execution_count": null,
   "id": "6b077b73",
   "metadata": {
    "id": "9ffac501-808f-4f58-9524-00c63c8b0903",
    "outputId": "ee11fe87-ad17-4320-9620-3ef76d5a52c5"
   },
   "outputs": [
    {
     "data": {
      "text/plain": [
       "'sudhanshu'"
      ]
     },
     "execution_count": 279,
     "metadata": {},
     "output_type": "execute_result"
    }
   ],
   "source": [
    "d1.pop('name')"
   ]
  },
  {
   "cell_type": "code",
   "execution_count": null,
   "id": "f999625c",
   "metadata": {
    "id": "8de1af74-9cc3-46e3-aa23-3f375db71c78",
    "outputId": "63bb1c10-9c72-4320-a23d-e9932e3714e4"
   },
   "outputs": [
    {
     "data": {
      "text/plain": [
       "{'subject': ['data science ', 'big data ', 'data analytics'],\n",
       " 'number': 43242424}"
      ]
     },
     "execution_count": 280,
     "metadata": {},
     "output_type": "execute_result"
    }
   ],
   "source": [
    "d1"
   ]
  },
  {
   "cell_type": "code",
   "execution_count": null,
   "id": "040bf8ff",
   "metadata": {
    "id": "73874b8b-49be-40c9-9c49-9a0d85ab75b6"
   },
   "outputs": [],
   "source": [
    "d1['test'] = \"sdffs\""
   ]
  },
  {
   "cell_type": "code",
   "execution_count": null,
   "id": "5e6edf57",
   "metadata": {
    "id": "6babb8a9-34aa-4990-b490-95f9ba3104c5",
    "outputId": "a7df4cd4-675a-4d97-e2b2-aee1d071cd17"
   },
   "outputs": [
    {
     "data": {
      "text/plain": [
       "{'subject': ['data science ', 'big data ', 'data analytics'],\n",
       " 'number': 43242424,\n",
       " 'test': 'sdffs'}"
      ]
     },
     "execution_count": 282,
     "metadata": {},
     "output_type": "execute_result"
    }
   ],
   "source": [
    "d1"
   ]
  },
  {
   "cell_type": "code",
   "execution_count": null,
   "id": "281abbb3",
   "metadata": {
    "id": "dbbe8722-e8be-45ee-bb4d-03eaf9cf48af",
    "outputId": "03bb2500-3288-46e2-eb1e-6462798c4533"
   },
   "outputs": [
    {
     "data": {
      "text/plain": [
       "'Pwskills'"
      ]
     },
     "execution_count": 283,
     "metadata": {},
     "output_type": "execute_result"
    }
   ],
   "source": [
    "s1"
   ]
  },
  {
   "cell_type": "code",
   "execution_count": null,
   "id": "a050035d",
   "metadata": {
    "id": "b71ce9cc-a91a-48bc-853c-63455243138a",
    "outputId": "f87131f7-6e5b-4eb2-c553-b0153b4303f6"
   },
   "outputs": [
    {
     "data": {
      "text/plain": [
       "b'Pwskills'"
      ]
     },
     "execution_count": 284,
     "metadata": {},
     "output_type": "execute_result"
    }
   ],
   "source": [
    "s1.encode('utf-8')"
   ]
  },
  {
   "cell_type": "code",
   "execution_count": null,
   "id": "255e77c2",
   "metadata": {
    "id": "a4b134ec-6db7-483b-9d4b-b090dd79a676",
    "outputId": "ae9d28d0-ee6a-4dcd-b033-05408b44cd0b"
   },
   "outputs": [
    {
     "data": {
      "text/plain": [
       "[]"
      ]
     },
     "execution_count": 285,
     "metadata": {},
     "output_type": "execute_result"
    }
   ],
   "source": [
    "l"
   ]
  },
  {
   "cell_type": "code",
   "execution_count": null,
   "id": "c74820f2",
   "metadata": {
    "id": "a2e80670-c53f-4d98-9de1-f9e83d8374dd",
    "outputId": "3167eaa3-5d93-45a7-a0db-f7339009c573"
   },
   "outputs": [
    {
     "data": {
      "text/plain": [
       "[200, 300, 4, 5]"
      ]
     },
     "execution_count": 286,
     "metadata": {},
     "output_type": "execute_result"
    }
   ],
   "source": [
    "l1"
   ]
  },
  {
   "cell_type": "code",
   "execution_count": null,
   "id": "f404f8ac",
   "metadata": {
    "id": "29f87668-1634-46a2-9c20-f9d9c043f7b4",
    "outputId": "9a3b7cc0-823b-4a84-df14-a4125a39eeec"
   },
   "outputs": [
    {
     "data": {
      "text/plain": [
       "1"
      ]
     },
     "execution_count": 287,
     "metadata": {},
     "output_type": "execute_result"
    }
   ],
   "source": [
    "l1.count(4)"
   ]
  },
  {
   "cell_type": "code",
   "execution_count": null,
   "id": "7b0b829b",
   "metadata": {
    "id": "3474ab04-b5f0-4de4-a06a-7fc19d3d651b",
    "outputId": "c707c3c3-60d6-46af-e421-e8286b2aa4c7"
   },
   "outputs": [
    {
     "data": {
      "text/plain": [
       "(1, 2, 3, 4, 'sudh', 'pwksills', (4+56j), True)"
      ]
     },
     "execution_count": 288,
     "metadata": {},
     "output_type": "execute_result"
    }
   ],
   "source": [
    "t"
   ]
  },
  {
   "cell_type": "code",
   "execution_count": null,
   "id": "18fca659",
   "metadata": {
    "id": "fa8a763c-c1eb-43a3-afbe-865aced65c10",
    "outputId": "f33f98b5-4b37-4f39-cdb7-b17f97ef8e6b"
   },
   "outputs": [
    {
     "data": {
      "text/plain": [
       "1"
      ]
     },
     "execution_count": 289,
     "metadata": {},
     "output_type": "execute_result"
    }
   ],
   "source": [
    "t.count(4)"
   ]
  },
  {
   "cell_type": "code",
   "execution_count": null,
   "id": "67364adf",
   "metadata": {
    "id": "23d10023-0618-4c27-a071-d378d9e75a5d",
    "outputId": "91d18888-69cc-4658-f01a-96dec8e4d7b2"
   },
   "outputs": [
    {
     "data": {
      "text/plain": [
       "(54, 234)"
      ]
     },
     "execution_count": 293,
     "metadata": {},
     "output_type": "execute_result"
    }
   ],
   "source": [
    "tuple(s)"
   ]
  },
  {
   "cell_type": "code",
   "execution_count": null,
   "id": "26977b13",
   "metadata": {
    "id": "529273ba-55ed-4113-9eb9-509940198d10",
    "outputId": "da4c76b6-b18a-4646-e1df-56ebfdac8fcb"
   },
   "outputs": [
    {
     "data": {
      "text/plain": [
       "'Pwskills'"
      ]
     },
     "execution_count": 294,
     "metadata": {},
     "output_type": "execute_result"
    }
   ],
   "source": [
    "s1"
   ]
  },
  {
   "cell_type": "code",
   "execution_count": null,
   "id": "7cfa47bc",
   "metadata": {
    "id": "e5f6112f-161c-4da3-9df4-0fd55926e6c8",
    "outputId": "e4946375-7124-4523-8e5f-5a91428dc2f7"
   },
   "outputs": [
    {
     "data": {
      "text/plain": [
       "True"
      ]
     },
     "execution_count": 295,
     "metadata": {},
     "output_type": "execute_result"
    }
   ],
   "source": [
    "'sk' in 'pwskills'"
   ]
  },
  {
   "cell_type": "code",
   "execution_count": null,
   "id": "1bb7bc70",
   "metadata": {
    "id": "ded2efb8-1840-4112-bb4e-c122d4b33522",
    "outputId": "bfa123e2-b514-48b6-d083-2a125d97f2a3"
   },
   "outputs": [
    {
     "data": {
      "text/plain": [
       "{}"
      ]
     },
     "execution_count": 296,
     "metadata": {},
     "output_type": "execute_result"
    }
   ],
   "source": [
    "d"
   ]
  },
  {
   "cell_type": "code",
   "execution_count": null,
   "id": "7c7abf9e",
   "metadata": {
    "id": "25463d01-bd56-4708-9b97-5f7cbc7eb271",
    "outputId": "115863e3-fb12-4760-f4c8-703557c1a515"
   },
   "outputs": [
    {
     "data": {
      "text/plain": [
       "{'subject': ['data science ', 'big data ', 'data analytics'],\n",
       " 'number': 43242424,\n",
       " 'test': 'sdffs'}"
      ]
     },
     "execution_count": 297,
     "metadata": {},
     "output_type": "execute_result"
    }
   ],
   "source": [
    "d1"
   ]
  },
  {
   "cell_type": "code",
   "execution_count": null,
   "id": "1d418275",
   "metadata": {
    "id": "410f3cdc-95e6-41a3-aae3-30fa6c0972b8",
    "outputId": "0a08abd6-d8c7-4cc8-c93f-b859d5d8a2be"
   },
   "outputs": [
    {
     "data": {
      "text/plain": [
       "{'course ': ['dsa', 'java', 'webdev', 'blockchain', 'cloud'],\n",
       " 'mentor': ('sudh', 'krish', 'viswa', 'sourganshu', 'sunny '),\n",
       " 'price': {3500, 11000, 15000, 20000},\n",
       " 'duration': 1,\n",
       " 'access year': 1,\n",
       " 'syllabus': {'python': ['core python',\n",
       "   'oops',\n",
       "   'pandas',\n",
       "   'numpy',\n",
       "   'db',\n",
       "   'mongodb'],\n",
       "  'ml': ['supervised', 'unsupervised', 'semisupervised']}}"
      ]
     },
     "execution_count": 298,
     "metadata": {},
     "output_type": "execute_result"
    }
   ],
   "source": [
    "d4"
   ]
  },
  {
   "cell_type": "code",
   "execution_count": null,
   "id": "e04cda60",
   "metadata": {
    "id": "b5d97918-7d26-4004-bc44-0a4e97a31f18"
   },
   "outputs": [],
   "source": [
    "d4['course '] =  ['dsa', 'java', 'webdev', 'blockchain', 'cloud' , 'juilia']"
   ]
  },
  {
   "cell_type": "code",
   "execution_count": null,
   "id": "9985ab65",
   "metadata": {
    "id": "9ca17bec-d656-4b3e-9d46-18daadd148d4",
    "outputId": "1534b716-c9ab-4840-8bf2-91f0df42a7f3"
   },
   "outputs": [
    {
     "data": {
      "text/plain": [
       "{'course ': ['dsa', 'java', 'webdev', 'blockchain', 'cloud', 'juilia'],\n",
       " 'mentor': ('sudh', 'krish', 'viswa', 'sourganshu', 'sunny '),\n",
       " 'price': {3500, 11000, 15000, 20000},\n",
       " 'duration': 1,\n",
       " 'access year': 1,\n",
       " 'syllabus': {'python': ['core python',\n",
       "   'oops',\n",
       "   'pandas',\n",
       "   'numpy',\n",
       "   'db',\n",
       "   'mongodb'],\n",
       "  'ml': ['supervised', 'unsupervised', 'semisupervised']}}"
      ]
     },
     "execution_count": 300,
     "metadata": {},
     "output_type": "execute_result"
    }
   ],
   "source": [
    "d4"
   ]
  },
  {
   "cell_type": "code",
   "execution_count": null,
   "id": "c8ebc51c",
   "metadata": {
    "id": "bd5ae14e-7312-44ce-8a6f-30f531b8663e"
   },
   "outputs": [],
   "source": [
    "d4.update({'course ': ['dsa','python' ,  'webdev', 'blockchain', 'cloud', 'juilia','perl']})"
   ]
  },
  {
   "cell_type": "code",
   "execution_count": null,
   "id": "8344b7d9",
   "metadata": {
    "id": "b9825445-b637-4703-ada6-076323b0ff6c",
    "outputId": "e5744385-8be5-4439-fcf0-c1f95da22541"
   },
   "outputs": [
    {
     "data": {
      "text/plain": [
       "{'course ': ['dsa',\n",
       "  'python',\n",
       "  'webdev',\n",
       "  'blockchain',\n",
       "  'cloud',\n",
       "  'juilia',\n",
       "  'perl'],\n",
       " 'mentor': ('sudh', 'krish', 'viswa', 'sourganshu', 'sunny '),\n",
       " 'price': {3500, 11000, 15000, 20000},\n",
       " 'duration': 1,\n",
       " 'access year': 1,\n",
       " 'syllabus': {'python': ['core python',\n",
       "   'oops',\n",
       "   'pandas',\n",
       "   'numpy',\n",
       "   'db',\n",
       "   'mongodb'],\n",
       "  'ml': ['supervised', 'unsupervised', 'semisupervised']},\n",
       " 'key': 'value',\n",
       " 'key1': 'values'}"
      ]
     },
     "execution_count": 315,
     "metadata": {},
     "output_type": "execute_result"
    }
   ],
   "source": [
    "d4"
   ]
  },
  {
   "cell_type": "code",
   "execution_count": null,
   "id": "15d756be",
   "metadata": {
    "id": "bfdf1104-0678-488c-a7db-45750192f18e"
   },
   "outputs": [],
   "source": [
    "d4['key1'] = \"values\""
   ]
  },
  {
   "cell_type": "code",
   "execution_count": null,
   "id": "6b39834f",
   "metadata": {
    "id": "3203c3ec-e29f-46c4-825b-7863731f6cfb",
    "outputId": "a03d3c79-daaf-4dea-a00f-f988b6695bb2"
   },
   "outputs": [
    {
     "data": {
      "text/plain": [
       "{'course ': ['dsa', 'java', 'webdev', 'blockchain', 'cloud', 'juilia'],\n",
       " 'mentor': ('sudh', 'krish', 'viswa', 'sourganshu', 'sunny '),\n",
       " 'price': {3500, 11000, 15000, 20000},\n",
       " 'duration': 1,\n",
       " 'access year': 1,\n",
       " 'syllabus': {'python': ['core python',\n",
       "   'oops',\n",
       "   'pandas',\n",
       "   'numpy',\n",
       "   'db',\n",
       "   'mongodb'],\n",
       "  'ml': ['supervised', 'unsupervised', 'semisupervised']},\n",
       " 'key': 'value',\n",
       " 'key1': 'values'}"
      ]
     },
     "execution_count": 305,
     "metadata": {},
     "output_type": "execute_result"
    }
   ],
   "source": [
    "d4"
   ]
  },
  {
   "cell_type": "code",
   "execution_count": null,
   "id": "cac61bfa",
   "metadata": {
    "id": "c200a6d5-8e00-4dfb-a661-2953c5425575"
   },
   "outputs": [],
   "source": [
    "s = \"sudh\""
   ]
  },
  {
   "cell_type": "code",
   "execution_count": null,
   "id": "122ac95e",
   "metadata": {
    "id": "111d2d22-0c94-4113-9237-f1a5d0e69341",
    "outputId": "924880dd-b3da-4a30-89be-d41b5604801a"
   },
   "outputs": [
    {
     "data": {
      "text/plain": [
       "4"
      ]
     },
     "execution_count": 310,
     "metadata": {},
     "output_type": "execute_result"
    }
   ],
   "source": [
    "len(s)"
   ]
  },
  {
   "cell_type": "code",
   "execution_count": null,
   "id": "d5c130d7",
   "metadata": {
    "id": "9e8c7005-d424-4228-9b7a-5bd541f7128b",
    "outputId": "9e86995d-ebd7-435f-b64a-332bf20b4d58"
   },
   "outputs": [
    {
     "data": {
      "text/plain": [
       "[200, 300, 4, 5]"
      ]
     },
     "execution_count": 312,
     "metadata": {},
     "output_type": "execute_result"
    }
   ],
   "source": [
    "l1"
   ]
  },
  {
   "cell_type": "code",
   "execution_count": null,
   "id": "331c7c21",
   "metadata": {
    "id": "eefdf4b9-8399-4412-9a26-1baab3545d56",
    "outputId": "6d84c08f-80fc-4174-d4ce-520b9d7dd370"
   },
   "outputs": [
    {
     "data": {
      "text/plain": [
       "4"
      ]
     },
     "execution_count": 313,
     "metadata": {},
     "output_type": "execute_result"
    }
   ],
   "source": [
    "len(l1)"
   ]
  },
  {
   "cell_type": "code",
   "execution_count": null,
   "id": "06057f01",
   "metadata": {
    "id": "3f7340a9-06a7-428b-adef-2e510a468b05",
    "outputId": "b7c1468e-95b7-4e15-b4d3-f63cbe65faae"
   },
   "outputs": [
    {
     "data": {
      "text/plain": [
       "b'c3VkaGFuc2h1'"
      ]
     },
     "execution_count": 317,
     "metadata": {},
     "output_type": "execute_result"
    }
   ],
   "source": [
    "import base64\n",
    "s = 'sudhanshu'\n",
    "base64.b64encode(s.encode('utf-8'))"
   ]
  },
  {
   "cell_type": "code",
   "execution_count": null,
   "id": "0aa9821f",
   "metadata": {
    "id": "f81f7dee-78f6-486d-8781-28a54e234471"
   },
   "outputs": [],
   "source": []
  }
 ],
 "metadata": {
  "colab": {
   "provenance": []
  },
  "kernelspec": {
   "display_name": "Python 3 (ipykernel)",
   "language": "python",
   "name": "python3"
  },
  "language_info": {
   "codemirror_mode": {
    "name": "ipython",
    "version": 3
   },
   "file_extension": ".py",
   "mimetype": "text/x-python",
   "name": "python",
   "nbconvert_exporter": "python",
   "pygments_lexer": "ipython3",
   "version": "3.11.5"
  }
 },
 "nbformat": 4,
 "nbformat_minor": 5
}
